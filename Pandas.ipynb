{
  "nbformat": 4,
  "nbformat_minor": 0,
  "metadata": {
    "kernelspec": {
      "display_name": "Python (3.6-cme193_new)",
      "language": "python",
      "name": "cme193_new"
    },
    "language_info": {
      "codemirror_mode": {
        "name": "ipython",
        "version": 3
      },
      "file_extension": ".py",
      "mimetype": "text/x-python",
      "name": "python",
      "nbconvert_exporter": "python",
      "pygments_lexer": "ipython3",
      "version": "3.7.4"
    },
    "colab": {
      "name": "Lecture_6_post.ipynb",
      "provenance": []
    }
  },
  "cells": [
    {
      "cell_type": "markdown",
      "metadata": {
        "id": "qFQVH2vWj-qm",
        "colab_type": "text"
      },
      "source": [
        "# CME 193 - Lecture 6 - Pandas\n",
        "\n",
        "Before we get started, you may want to make sure that you have the following packages installed in whatever environment you're using: `pandas`\n",
        "\n",
        "```bash\n",
        "conda install pandas\n",
        "```\n",
        "\n",
        "If you are in colab, it should be preinstalled\n",
        "\n",
        "Pandas is a package for working with tabular data.  \n"
      ]
    },
    {
      "cell_type": "markdown",
      "metadata": {
        "id": "YuqTx71xj-qn",
        "colab_type": "text"
      },
      "source": [
        "# Pandas\n",
        "\n",
        "[Pandas](https://pandas.pydata.org/) is a Python library for dealing with data.  The main thing you'll hear people talk about is the DataFrame object (inspired by R), which is designed to hold tabular data.\n",
        "\n",
        "## Difference between a DataFrame and NumPy Array\n",
        "\n",
        "Pandas DataFrames and NumPy arrays both have similarities to Python lists.  \n",
        "* Numpy arrays are designed to contain data of one type (e.g. Int, Float, ...)\n",
        "* DataFrames can contain different types of data (Int, Float, String, ...)\n",
        "    * Usually each column has the same type\n",
        "    \n",
        "    \n",
        "Both arrays and DataFrames are optimized for storage/performance beyond Python lists\n",
        "\n",
        "Pandas is also powerful for working with missing data, working with time series data, for reading and writing your data, for reshaping, grouping, merging your data, ...\n",
        "\n",
        "## Key Features\n",
        "\n",
        "* File I/O - integrations with multiple file formats\n",
        "* Working with missing data (.dropna(), pd.isnull())\n",
        "* Normal table operations: merging and joining, groupby functionality, reshaping via stack, and pivot_tables,\n",
        "* Time series-specific functionality:\n",
        "    * date range generation and frequency conversion, moving window statistics/regressions, date shifting and lagging, etc.\n",
        "* Built in Matplotlib integration\n",
        "\n",
        "## Other Strengths\n",
        "\n",
        "* Strong community, support, and documentation\n",
        "* Size mutability: columns can be inserted and deleted from DataFrame and higher dimensional objects\n",
        "* Powerful, flexible group by functionality to perform split-apply-combine operations on data sets, for both aggregating and transforming data\n",
        "* Make it easy to convert ragged, differently-indexed data in other Python and NumPy data structures into DataFrame objects Intelligent label-based slicing, fancy indexing, and subsetting of large data sets\n",
        "\n",
        "## Python/Pandas vs. R\n",
        "\n",
        "* R is a language dedicated to statistics. Python is a general-purpose language with statistics modules.\n",
        "* R has more statistical analysis features than Python, and specialized syntaxes.\n",
        "\n",
        "However, when it comes to building complex analysis pipelines that mix statistics with e.g. image analysis, text mining, or control of a physical experiment, the richness of Python is an invaluable asset."
      ]
    },
    {
      "cell_type": "markdown",
      "metadata": {
        "id": "mrX0r1vej-qp",
        "colab_type": "text"
      },
      "source": [
        "# Getting Started\n",
        "\n",
        "[Here](https://pandas.pydata.org/pandas-docs/stable/generated/pandas.DataFrame.html) is a link to the documentation for DataFrames"
      ]
    },
    {
      "cell_type": "code",
      "metadata": {
        "id": "EO4RBvnXj-qq",
        "colab_type": "code",
        "colab": {}
      },
      "source": [
        "import pandas as pd\n",
        "import numpy as np"
      ],
      "execution_count": 0,
      "outputs": []
    },
    {
      "cell_type": "markdown",
      "metadata": {
        "id": "R654g5zTj-qv",
        "colab_type": "text"
      },
      "source": [
        "## Objects and Basic Creation\n",
        "\n",
        "| Name | Dimensions | Description  |\n",
        "| ------:| -----------:|----------|\n",
        "| ```pd.Series``` | 1 | 1D labeled homogeneously-typed array |\n",
        "| ```pd.DataFrame```  | 2| General 2D labeled, size-mutable tabular structure |\n",
        "| ```pd.Panel``` | 3|  General 3D labeled, also size-mutable array |\n",
        "\n",
        "# Series\n",
        "## What are they?\n",
        "- Series is a one-dimensional labeled array capable of holding any data type (integers, strings, floating point numbers, Python objects, etc.). The axis labels are collectively referred to as the index.\n",
        "- Basic method to create a series: \n",
        "```python \n",
        "s = pd.Series(data, index = index) ```\n",
        "- Data Can be many things:\n",
        "    * A Python Dictionary\n",
        "    * An ndarray (or reg. list)\n",
        "    * A scalar \n",
        "- The passed index is a list of axis labels (which varies on what data is)\n",
        "\n",
        "Think \"Series = Vector + labels\""
      ]
    },
    {
      "cell_type": "code",
      "metadata": {
        "id": "sYd_2X4Lj-qv",
        "colab_type": "code",
        "colab": {},
        "outputId": "8d658393-6ab3-417e-f30b-db066d80d1ed"
      },
      "source": [
        "first_series = pd.Series([1,2,4,8,16,32,64])\n",
        "print(type(first_series))\n",
        "print(first_series)"
      ],
      "execution_count": 0,
      "outputs": [
        {
          "output_type": "stream",
          "text": [
            "<class 'pandas.core.series.Series'>\n",
            "0     1\n",
            "1     2\n",
            "2     4\n",
            "3     8\n",
            "4    16\n",
            "5    32\n",
            "6    64\n",
            "dtype: int64\n"
          ],
          "name": "stdout"
        }
      ]
    },
    {
      "cell_type": "code",
      "metadata": {
        "id": "DnF6jSZ7j-qz",
        "colab_type": "code",
        "colab": {},
        "outputId": "6236a4d8-fc80-4949-ede6-7d4e3fa278cc"
      },
      "source": [
        "s = pd.Series(np.random.randn(5), index=['a', 'b', 'c', 'd', 'e'])\n",
        "print(s)\n",
        "print('-'*50)\n",
        "print(s.index)"
      ],
      "execution_count": 0,
      "outputs": [
        {
          "output_type": "stream",
          "text": [
            "a   -0.224729\n",
            "b   -0.384453\n",
            "c    0.079023\n",
            "d    0.752865\n",
            "e    0.602914\n",
            "dtype: float64\n",
            "--------------------------------------------------\n",
            "Index(['a', 'b', 'c', 'd', 'e'], dtype='object')\n"
          ],
          "name": "stdout"
        }
      ]
    },
    {
      "cell_type": "code",
      "metadata": {
        "id": "evqEsqnpj-q2",
        "colab_type": "code",
        "colab": {},
        "outputId": "cd70d882-fe9a-48f9-cdbe-389654fdeb06"
      },
      "source": [
        "s['a']"
      ],
      "execution_count": 0,
      "outputs": [
        {
          "output_type": "execute_result",
          "data": {
            "text/plain": [
              "-0.22472935750902634"
            ]
          },
          "metadata": {
            "tags": []
          },
          "execution_count": 4
        }
      ]
    },
    {
      "cell_type": "markdown",
      "metadata": {
        "id": "6mt_QDrVj-q4",
        "colab_type": "text"
      },
      "source": [
        "If Data is a dictionary, if index is passed the values in data corresponding to the labels in the index will be pulled out, otherwise an index will be constructed from the sorted keys of the dict"
      ]
    },
    {
      "cell_type": "code",
      "metadata": {
        "id": "KdnLNWdgj-q5",
        "colab_type": "code",
        "colab": {},
        "outputId": "f32b0d29-e397-4d6c-862b-617215dfd788"
      },
      "source": [
        "d = {'a': [0., 0], 'b': {'1':1.}, 'c': 2.}\n",
        "pd.Series(d)"
      ],
      "execution_count": 0,
      "outputs": [
        {
          "output_type": "execute_result",
          "data": {
            "text/plain": [
              "a      [0.0, 0]\n",
              "b    {'1': 1.0}\n",
              "c             2\n",
              "dtype: object"
            ]
          },
          "metadata": {
            "tags": []
          },
          "execution_count": 5
        }
      ]
    },
    {
      "cell_type": "markdown",
      "metadata": {
        "id": "t5Q24WeHj-q7",
        "colab_type": "text"
      },
      "source": [
        "You can create a series from a scalar, but need to specify indices"
      ]
    },
    {
      "cell_type": "code",
      "metadata": {
        "id": "O6iti7aZj-q7",
        "colab_type": "code",
        "colab": {},
        "outputId": "c9b0b516-5e16-41ae-fed4-ef1bc6953d9f"
      },
      "source": [
        "pd.Series(5, index = ['a', 'b', 'c'])"
      ],
      "execution_count": 0,
      "outputs": [
        {
          "output_type": "execute_result",
          "data": {
            "text/plain": [
              "a    5\n",
              "b    5\n",
              "c    5\n",
              "dtype: int64"
            ]
          },
          "metadata": {
            "tags": []
          },
          "execution_count": 6
        }
      ]
    },
    {
      "cell_type": "markdown",
      "metadata": {
        "id": "93UthVNSj-q9",
        "colab_type": "text"
      },
      "source": [
        "You can index and slice series like you would numpy arrays/python lists"
      ]
    },
    {
      "cell_type": "code",
      "metadata": {
        "id": "E5aiiJMOj-q-",
        "colab_type": "code",
        "colab": {},
        "outputId": "ef3ec8c4-4823-4845-da1e-1ce1f2e61fa4"
      },
      "source": [
        "end_string = '\\n' + '-'*50 + '\\n'\n",
        "s = pd.Series(np.random.randn(5), index=['a', 'b', 'c', 'd', 'e'])\n",
        "print(s)"
      ],
      "execution_count": 0,
      "outputs": [
        {
          "output_type": "stream",
          "text": [
            "a    0.178365\n",
            "b    1.519421\n",
            "c   -1.273717\n",
            "d    1.045101\n",
            "e    1.725974\n",
            "dtype: float64\n"
          ],
          "name": "stdout"
        }
      ]
    },
    {
      "cell_type": "code",
      "metadata": {
        "id": "y3lhFZHjj-q_",
        "colab_type": "code",
        "colab": {},
        "outputId": "44cd09b1-1b0a-4b5d-a809-6deb488ecf13"
      },
      "source": [
        "print(s[0], end = end_string)\n",
        "# slicing\n",
        "print(s['b':'d'], end =end_string)"
      ],
      "execution_count": 0,
      "outputs": [
        {
          "output_type": "stream",
          "text": [
            "0.17836493599588055\n",
            "--------------------------------------------------\n",
            "b    1.519421\n",
            "c   -1.273717\n",
            "d    1.045101\n",
            "dtype: float64\n",
            "--------------------------------------------------\n"
          ],
          "name": "stdout"
        }
      ]
    },
    {
      "cell_type": "code",
      "metadata": {
        "id": "q6pEYRkij-rB",
        "colab_type": "code",
        "colab": {},
        "outputId": "8a9399f5-fbfb-4ec0-e88a-2ac219e41fbd"
      },
      "source": [
        " s > s.mean()"
      ],
      "execution_count": 0,
      "outputs": [
        {
          "output_type": "execute_result",
          "data": {
            "text/plain": [
              "a    False\n",
              "b     True\n",
              "c    False\n",
              "d     True\n",
              "e     True\n",
              "dtype: bool"
            ]
          },
          "metadata": {
            "tags": []
          },
          "execution_count": 10
        }
      ]
    },
    {
      "cell_type": "code",
      "metadata": {
        "id": "EE4KONOqj-rD",
        "colab_type": "code",
        "colab": {},
        "outputId": "caad9142-ad5d-4a70-c074-174f6d30b1cd"
      },
      "source": [
        "# conditional max - index with booleans\n",
        "print(s[ s > s.mean()], end = end_string)\n",
        "# elementwise function - vectorization\n",
        "print(np.exp(s), end = end_string)"
      ],
      "execution_count": 0,
      "outputs": [
        {
          "output_type": "stream",
          "text": [
            "b    1.519421\n",
            "d    1.045101\n",
            "e    1.725974\n",
            "dtype: float64\n",
            "--------------------------------------------------\n",
            "a    1.195261\n",
            "b    4.569579\n",
            "c    0.279790\n",
            "d    2.843685\n",
            "e    5.617988\n",
            "dtype: float64\n",
            "--------------------------------------------------\n"
          ],
          "name": "stdout"
        }
      ]
    },
    {
      "cell_type": "markdown",
      "metadata": {
        "id": "8CB5MxpLj-rE",
        "colab_type": "text"
      },
      "source": [
        "Series are also like dictionaries - you can access values using index labels"
      ]
    },
    {
      "cell_type": "code",
      "metadata": {
        "id": "C6xKxLHoj-rF",
        "colab_type": "code",
        "colab": {},
        "outputId": "91c41487-56dd-4f48-865d-3dba31d3f37f"
      },
      "source": [
        "print(s, end = end_string)\n",
        "print(s['a'], end = end_string)"
      ],
      "execution_count": 0,
      "outputs": [
        {
          "output_type": "stream",
          "text": [
            "a    0.178365\n",
            "b    1.519421\n",
            "c   -1.273717\n",
            "d    1.045101\n",
            "e    1.725974\n",
            "dtype: float64\n",
            "--------------------------------------------------\n",
            "0.17836493599588055\n",
            "--------------------------------------------------\n"
          ],
          "name": "stdout"
        }
      ]
    },
    {
      "cell_type": "code",
      "metadata": {
        "id": "E5oLJ9cWj-rG",
        "colab_type": "code",
        "colab": {},
        "outputId": "08c6673f-3234-4128-e25e-c33cbf754f2d"
      },
      "source": [
        "s['e'] = 12 # set element using index label\n",
        "print(s, end = end_string)\n",
        "print('f' in s, end = end_string) # check for index label\n",
        "print(s.get('f', 5), end = end_string) # get item with index 'f' - if no such item return None\n",
        "print(s.get('e', None), end = end_string)"
      ],
      "execution_count": 0,
      "outputs": [
        {
          "output_type": "stream",
          "text": [
            "a     0.178365\n",
            "b     1.519421\n",
            "c    -1.273717\n",
            "d     1.045101\n",
            "e    12.000000\n",
            "dtype: float64\n",
            "--------------------------------------------------\n",
            "False\n",
            "--------------------------------------------------\n",
            "5\n",
            "--------------------------------------------------\n",
            "12.0\n",
            "--------------------------------------------------\n"
          ],
          "name": "stdout"
        }
      ]
    },
    {
      "cell_type": "markdown",
      "metadata": {
        "id": "wf6UxIpWj-rI",
        "colab_type": "text"
      },
      "source": [
        "### Series Attributes:\n",
        "\n",
        "- Get the index : \n",
        "```python \n",
        "s.index ``` \n",
        "- Get the values :\n",
        "``` python \n",
        "s.values ``` \n",
        "- Find the shape : \n",
        "``` python \n",
        "s.shape ``` \n",
        "\n",
        "### Series Iteration"
      ]
    },
    {
      "cell_type": "code",
      "metadata": {
        "id": "zMyRC6Faj-rI",
        "colab_type": "code",
        "colab": {},
        "outputId": "4c635305-0260-4124-f67b-9c629db8638f"
      },
      "source": [
        "s.shape"
      ],
      "execution_count": 0,
      "outputs": [
        {
          "output_type": "execute_result",
          "data": {
            "text/plain": [
              "(5,)"
            ]
          },
          "metadata": {
            "tags": []
          },
          "execution_count": 18
        }
      ]
    },
    {
      "cell_type": "code",
      "metadata": {
        "id": "mdQjpCIrj-rJ",
        "colab_type": "code",
        "colab": {},
        "outputId": "bb62e129-ae5c-46bd-db09-b94f1b261929"
      },
      "source": [
        "for idx,val in s.iteritems():\n",
        "    print(idx,val)"
      ],
      "execution_count": 0,
      "outputs": [
        {
          "output_type": "stream",
          "text": [
            "a 0.17836493599588055\n",
            "b 1.5194210057023652\n",
            "c -1.2737168003291939\n",
            "d 1.0451007397488026\n",
            "e 12.0\n"
          ],
          "name": "stdout"
        }
      ]
    },
    {
      "cell_type": "markdown",
      "metadata": {
        "id": "PWcNwie_j-rL",
        "colab_type": "text"
      },
      "source": [
        "Sort by index or by value"
      ]
    },
    {
      "cell_type": "code",
      "metadata": {
        "id": "EANH6QS3j-rL",
        "colab_type": "code",
        "colab": {},
        "outputId": "59427d89-cd7a-41ff-f02e-379434431610"
      },
      "source": [
        "print(s.sort_index(), end = end_string)\n",
        "print(s.sort_values(), end = end_string)"
      ],
      "execution_count": 0,
      "outputs": [
        {
          "output_type": "stream",
          "text": [
            "a     0.178365\n",
            "b     1.519421\n",
            "c    -1.273717\n",
            "d     1.045101\n",
            "e    12.000000\n",
            "dtype: float64\n",
            "--------------------------------------------------\n",
            "c    -1.273717\n",
            "a     0.178365\n",
            "d     1.045101\n",
            "b     1.519421\n",
            "e    12.000000\n",
            "dtype: float64\n",
            "--------------------------------------------------\n"
          ],
          "name": "stdout"
        }
      ]
    },
    {
      "cell_type": "markdown",
      "metadata": {
        "id": "L6Vpm2nbj-rM",
        "colab_type": "text"
      },
      "source": [
        "Find counts of unique values"
      ]
    },
    {
      "cell_type": "code",
      "metadata": {
        "id": "-zEKcqVGj-rN",
        "colab_type": "code",
        "colab": {},
        "outputId": "eb80e563-7e8e-40d6-98bd-a3f58dfdfff9"
      },
      "source": [
        "s = pd.Series([0,0,0,1,1,1,2,2,2,2])\n",
        "sct = s.value_counts()\n",
        "print(sct)\n"
      ],
      "execution_count": 0,
      "outputs": [
        {
          "output_type": "stream",
          "text": [
            "2    4\n",
            "1    3\n",
            "0    3\n",
            "dtype: int64\n"
          ],
          "name": "stdout"
        }
      ]
    },
    {
      "cell_type": "markdown",
      "metadata": {
        "id": "flnWwzVZj-rO",
        "colab_type": "text"
      },
      "source": [
        "You can do just about anything you can do with a numpy array\n",
        "\n",
        "- Series.mean()\n",
        "- Series.median()\n",
        "- Series.mode()\n",
        "- Series.nsmallest(num)\n",
        "- Series.max ..."
      ]
    },
    {
      "cell_type": "code",
      "metadata": {
        "id": "Uctzzf7ej-rO",
        "colab_type": "code",
        "colab": {},
        "outputId": "dea98f0f-167b-4a4f-9a8a-cfff80a7112e"
      },
      "source": [
        "print(s.min(),end = end_string)\n",
        "print(s.max(), end = end_string)"
      ],
      "execution_count": 0,
      "outputs": [
        {
          "output_type": "stream",
          "text": [
            "0\n",
            "--------------------------------------------------\n",
            "2\n",
            "--------------------------------------------------\n"
          ],
          "name": "stdout"
        }
      ]
    },
    {
      "cell_type": "markdown",
      "metadata": {
        "id": "d5lisbjYj-rQ",
        "colab_type": "text"
      },
      "source": [
        "## Exercise\n",
        "\n",
        "- Consider the series `s` of letters in a sentence.\n",
        "- What is count of each letter in the sentence, output a series which is sorted by the count\n",
        "- Create a list with only the top 5 common letters (not including space)"
      ]
    },
    {
      "cell_type": "code",
      "metadata": {
        "id": "hCUK5dlbj-rQ",
        "colab_type": "code",
        "colab": {}
      },
      "source": [
        "s=pd.Series(list(\"Series is a one-dimensional labeled array capable of holding any data type (integers, strings, floating point numbers, Python objects, etc.). The axis labels are collectively referred to as the index.\"))"
      ],
      "execution_count": 0,
      "outputs": []
    },
    {
      "cell_type": "code",
      "metadata": {
        "id": "l498PuQGj-rR",
        "colab_type": "code",
        "colab": {}
      },
      "source": [
        "s.sort_values?"
      ],
      "execution_count": 0,
      "outputs": []
    },
    {
      "cell_type": "code",
      "metadata": {
        "id": "E0TNtnqij-rS",
        "colab_type": "code",
        "colab": {},
        "outputId": "16373c2d-da1d-4bd4-ef32-4e63595b0bb4"
      },
      "source": [
        "s1 = s.value_counts()\n",
        "s1[s1.index!=' '].sort_values(ascending=False)[:5]"
      ],
      "execution_count": 0,
      "outputs": [
        {
          "output_type": "execute_result",
          "data": {
            "text/plain": [
              "e    23\n",
              "a    15\n",
              "n    12\n",
              "i    12\n",
              "t    12\n",
              "dtype: int64"
            ]
          },
          "metadata": {
            "tags": []
          },
          "execution_count": 32
        }
      ]
    },
    {
      "cell_type": "code",
      "metadata": {
        "id": "5RUq9Slgj-rT",
        "colab_type": "code",
        "colab": {}
      },
      "source": [
        ""
      ],
      "execution_count": 0,
      "outputs": []
    },
    {
      "cell_type": "markdown",
      "metadata": {
        "id": "Y9C5OAIij-rU",
        "colab_type": "text"
      },
      "source": [
        "# DataFrame\n",
        "- DataFrame is a 2-dimensional labeled data structure with columns of potentially different types. You can think of it like a spreadsheet or SQL table, or a dict of Series objects. It is generally the most commonly used pandas object.\n",
        "- You can create a DataFrame from:\n",
        "    - Dict of 1D ndarrays, lists, dicts, or Series\n",
        "    - 2-D numpy array\n",
        "    - A list of dictionaries\n",
        "    - A Series\n",
        "    - Another Dataframe\n",
        "``` python\n",
        "df = pd.DataFrame(data, index = index, columns = columns)\n",
        "```\n",
        "- ```index```/ ``` columns ``` is a list of the row/ column labels. If you pass an index and/ or columns, you are guarenteeing the index and /or column of the df. \n",
        "- If you do not pass anything in, the input will be constructed by \"common sense\" rules\n",
        "\n",
        "[**pandas.DataFrame**](http://pandas.pydata.org/pandas-docs/stable/generated/pandas.DataFrame.html)\n",
        "\n",
        "# DataFrame Creation From dict of series or dicts\n",
        "- The index of the resulting DataFrame will be the union of the indices of the various Series. If there are any nested dicts, these will be first converted to Series. \n",
        "- If no columns are passed, the columns will be the sorted list of dict keys."
      ]
    },
    {
      "cell_type": "code",
      "metadata": {
        "id": "isaTAiE3j-rU",
        "colab_type": "code",
        "colab": {},
        "outputId": "cb626383-1278-42de-a4a4-29a5701adc01"
      },
      "source": [
        "# Create a dictionary of series\n",
        "d = {'one': pd.Series([1,2,3], index  = ['a', 'b', 'c']), \n",
        "     'two': pd.Series(list(range(4)), index = ['a','b', 'c', 'd'])}\n",
        "df = pd.DataFrame(d)\n",
        "print(df, end = end_string)\n",
        "\n",
        "d= {'one': {'a': 1, 'b': 2, 'c':3}, \n",
        "     'two': pd.Series(list(range(4)), index = ['a','b', 'c', 'd'])}\n",
        "# Columns are dictionary keys, indices and values obtained from series\n",
        "df = pd.DataFrame(d)\n",
        "# Notice how it fills the column one with NaN for d\n",
        "print(df, end = end_string)"
      ],
      "execution_count": 0,
      "outputs": [
        {
          "output_type": "stream",
          "text": [
            "   one  two\n",
            "a  1.0    0\n",
            "b  2.0    1\n",
            "c  3.0    2\n",
            "d  NaN    3\n",
            "--------------------------------------------------\n",
            "   one  two\n",
            "a  1.0    0\n",
            "b  2.0    1\n",
            "c  3.0    2\n",
            "d  NaN    3\n",
            "--------------------------------------------------\n"
          ],
          "name": "stdout"
        }
      ]
    },
    {
      "cell_type": "code",
      "metadata": {
        "id": "9VY0Jrz6j-rV",
        "colab_type": "code",
        "colab": {},
        "outputId": "508b84ae-2ef7-4d1d-b1d1-90240a86cd92"
      },
      "source": [
        "d = {'one': pd.Series([1,2,3], index  = ['a', 'b', 'c']), \n",
        "     'two': pd.Series(list(range(4)), index = ['a','b', 'c', 'd'])}\n",
        "\n",
        "print(pd.DataFrame(d, index = ['d', 'b', 'a']), end = end_string)\n",
        "print(pd.DataFrame(d, index = ['d', 'b', 'a'], columns = ['two', 'three']),\n",
        "      end = end_string)"
      ],
      "execution_count": 0,
      "outputs": [
        {
          "output_type": "stream",
          "text": [
            "   one  two\n",
            "d  NaN    3\n",
            "b  2.0    1\n",
            "a  1.0    0\n",
            "--------------------------------------------------\n",
            "   two three\n",
            "d    3   NaN\n",
            "b    1   NaN\n",
            "a    0   NaN\n",
            "--------------------------------------------------\n"
          ],
          "name": "stdout"
        }
      ]
    },
    {
      "cell_type": "markdown",
      "metadata": {
        "id": "gK_lPzwAj-rW",
        "colab_type": "text"
      },
      "source": [
        "# From dict of ndarray / lists\n",
        "- The ndarrays must all be the same length. \n",
        "- If an index is passed, it must clearly also be the same length as the arrays. If no index is passed, the result will be range(n), where n is the array length."
      ]
    },
    {
      "cell_type": "code",
      "metadata": {
        "id": "JPAbLUrXj-rX",
        "colab_type": "code",
        "colab": {},
        "outputId": "cebc4841-8fa1-46c8-adc4-1f9ee56f3ce4"
      },
      "source": [
        "d = {'one' : [1., 2., 3., 4], 'two' : [4., 3., 2., 1.]}\n",
        "pd.DataFrame(d)"
      ],
      "execution_count": 0,
      "outputs": [
        {
          "output_type": "execute_result",
          "data": {
            "text/html": [
              "<div>\n",
              "<style scoped>\n",
              "    .dataframe tbody tr th:only-of-type {\n",
              "        vertical-align: middle;\n",
              "    }\n",
              "\n",
              "    .dataframe tbody tr th {\n",
              "        vertical-align: top;\n",
              "    }\n",
              "\n",
              "    .dataframe thead th {\n",
              "        text-align: right;\n",
              "    }\n",
              "</style>\n",
              "<table border=\"1\" class=\"dataframe\">\n",
              "  <thead>\n",
              "    <tr style=\"text-align: right;\">\n",
              "      <th></th>\n",
              "      <th>one</th>\n",
              "      <th>two</th>\n",
              "    </tr>\n",
              "  </thead>\n",
              "  <tbody>\n",
              "    <tr>\n",
              "      <th>0</th>\n",
              "      <td>1.0</td>\n",
              "      <td>4.0</td>\n",
              "    </tr>\n",
              "    <tr>\n",
              "      <th>1</th>\n",
              "      <td>2.0</td>\n",
              "      <td>3.0</td>\n",
              "    </tr>\n",
              "    <tr>\n",
              "      <th>2</th>\n",
              "      <td>3.0</td>\n",
              "      <td>2.0</td>\n",
              "    </tr>\n",
              "    <tr>\n",
              "      <th>3</th>\n",
              "      <td>4.0</td>\n",
              "      <td>1.0</td>\n",
              "    </tr>\n",
              "  </tbody>\n",
              "</table>\n",
              "</div>"
            ],
            "text/plain": [
              "   one  two\n",
              "0  1.0  4.0\n",
              "1  2.0  3.0\n",
              "2  3.0  2.0\n",
              "3  4.0  1.0"
            ]
          },
          "metadata": {
            "tags": []
          },
          "execution_count": 35
        }
      ]
    },
    {
      "cell_type": "markdown",
      "metadata": {
        "id": "3kb7nf47j-rY",
        "colab_type": "text"
      },
      "source": [
        "# From a list of dicts"
      ]
    },
    {
      "cell_type": "code",
      "metadata": {
        "id": "qJyiFM_nj-rY",
        "colab_type": "code",
        "colab": {},
        "outputId": "2a921ce7-c9ac-410a-b954-2373f948afbe"
      },
      "source": [
        "data = []\n",
        "for i in range(100):\n",
        "    data += [ {'Column' + str(j):np.random.randint(100) for j in range(5)} ]\n",
        "    # dictionary comprehension!\n",
        "    \n",
        "data[:5]"
      ],
      "execution_count": 0,
      "outputs": [
        {
          "output_type": "execute_result",
          "data": {
            "text/plain": [
              "[{'Column0': 15, 'Column1': 56, 'Column2': 74, 'Column3': 45, 'Column4': 4},\n",
              " {'Column0': 7, 'Column1': 36, 'Column2': 48, 'Column3': 19, 'Column4': 90},\n",
              " {'Column0': 62, 'Column1': 75, 'Column2': 76, 'Column3': 91, 'Column4': 73},\n",
              " {'Column0': 75, 'Column1': 29, 'Column2': 29, 'Column3': 51, 'Column4': 30},\n",
              " {'Column0': 19, 'Column1': 31, 'Column2': 24, 'Column3': 53, 'Column4': 61}]"
            ]
          },
          "metadata": {
            "tags": []
          },
          "execution_count": 36
        }
      ]
    },
    {
      "cell_type": "code",
      "metadata": {
        "id": "5qGwUYZrj-rZ",
        "colab_type": "code",
        "colab": {},
        "outputId": "be671528-5a5b-4beb-e9c2-78afccdee26e"
      },
      "source": [
        "# Creation from a list of dicts\n",
        "df = pd.DataFrame(data)\n",
        "print(df.head(), end = end_string)"
      ],
      "execution_count": 0,
      "outputs": [
        {
          "output_type": "stream",
          "text": [
            "   Column0  Column1  Column2  Column3  Column4\n",
            "0       15       56       74       45        4\n",
            "1        7       36       48       19       90\n",
            "2       62       75       76       91       73\n",
            "3       75       29       29       51       30\n",
            "4       19       31       24       53       61\n",
            "--------------------------------------------------\n"
          ],
          "name": "stdout"
        }
      ]
    },
    {
      "cell_type": "code",
      "metadata": {
        "id": "q2XABSaaj-ra",
        "colab_type": "code",
        "colab": {},
        "outputId": "8310cb1c-6ea1-4bbc-a782-e51e5bf346c3"
      },
      "source": [
        "# Only certain columns\n",
        "df = pd.DataFrame(data, columns = ['Column0', 'Column1'])\n",
        "df.head()"
      ],
      "execution_count": 0,
      "outputs": [
        {
          "output_type": "execute_result",
          "data": {
            "text/html": [
              "<div>\n",
              "<style scoped>\n",
              "    .dataframe tbody tr th:only-of-type {\n",
              "        vertical-align: middle;\n",
              "    }\n",
              "\n",
              "    .dataframe tbody tr th {\n",
              "        vertical-align: top;\n",
              "    }\n",
              "\n",
              "    .dataframe thead th {\n",
              "        text-align: right;\n",
              "    }\n",
              "</style>\n",
              "<table border=\"1\" class=\"dataframe\">\n",
              "  <thead>\n",
              "    <tr style=\"text-align: right;\">\n",
              "      <th></th>\n",
              "      <th>Column0</th>\n",
              "      <th>Column1</th>\n",
              "    </tr>\n",
              "  </thead>\n",
              "  <tbody>\n",
              "    <tr>\n",
              "      <th>0</th>\n",
              "      <td>15</td>\n",
              "      <td>56</td>\n",
              "    </tr>\n",
              "    <tr>\n",
              "      <th>1</th>\n",
              "      <td>7</td>\n",
              "      <td>36</td>\n",
              "    </tr>\n",
              "    <tr>\n",
              "      <th>2</th>\n",
              "      <td>62</td>\n",
              "      <td>75</td>\n",
              "    </tr>\n",
              "    <tr>\n",
              "      <th>3</th>\n",
              "      <td>75</td>\n",
              "      <td>29</td>\n",
              "    </tr>\n",
              "    <tr>\n",
              "      <th>4</th>\n",
              "      <td>19</td>\n",
              "      <td>31</td>\n",
              "    </tr>\n",
              "  </tbody>\n",
              "</table>\n",
              "</div>"
            ],
            "text/plain": [
              "   Column0  Column1\n",
              "0       15       56\n",
              "1        7       36\n",
              "2       62       75\n",
              "3       75       29\n",
              "4       19       31"
            ]
          },
          "metadata": {
            "tags": []
          },
          "execution_count": 60
        }
      ]
    },
    {
      "cell_type": "markdown",
      "metadata": {
        "id": "5bb5ysfLj-ra",
        "colab_type": "text"
      },
      "source": [
        "## Attributes\n",
        "\n",
        "- ``` df.index ``` : the row index of df\n",
        "- ``` df.columns ``` : the columns of df\n",
        "- ``` df.shape ``` : the shape of the df\n",
        "- ``` df.values ``` : numpy array of values"
      ]
    },
    {
      "cell_type": "code",
      "metadata": {
        "id": "aL5XOYpNj-rb",
        "colab_type": "code",
        "colab": {}
      },
      "source": [
        ""
      ],
      "execution_count": 0,
      "outputs": []
    },
    {
      "cell_type": "code",
      "metadata": {
        "id": "yMU6JNuqj-rc",
        "colab_type": "code",
        "colab": {},
        "outputId": "70f8b9c2-42b8-49a5-cf14-6115af9df57e"
      },
      "source": [
        "# Adding and accessing columns \n",
        "d = {'one': pd.Series([1,2,3], index  = [0, 'b', 'c']), \n",
        "     'two': pd.Series(range(4), index = ['a','b', 'c', 'd'])}\n",
        "df = pd.DataFrame(d)\n",
        "# multiply \n",
        "df['three'] =  df['one']*df['two']\n",
        "# Create a boolean flag\n",
        "df['flag'] = df['one'] > 2\n",
        "print(df.head())"
      ],
      "execution_count": 0,
      "outputs": [
        {
          "output_type": "stream",
          "text": [
            "   one  two  three   flag\n",
            "0  1.0  NaN    NaN  False\n",
            "b  2.0  1.0    2.0  False\n",
            "c  3.0  2.0    6.0   True\n",
            "a  NaN  0.0    NaN  False\n",
            "d  NaN  3.0    NaN  False\n"
          ],
          "name": "stdout"
        }
      ]
    },
    {
      "cell_type": "code",
      "metadata": {
        "id": "0cneiEGbj-rd",
        "colab_type": "code",
        "colab": {},
        "outputId": "8856fd78-562b-4f56-8af8-2d44d36e65ab"
      },
      "source": [
        "# inserting column in specified location, with values\n",
        "df.insert(1, 'bar', df['one'][2:])\n",
        "print(df)"
      ],
      "execution_count": 0,
      "outputs": [
        {
          "output_type": "stream",
          "text": [
            "   one  bar  two  three   flag\n",
            "a  1.0  NaN    0    0.0  False\n",
            "b  2.0  NaN    1    2.0  False\n",
            "c  3.0  3.0    2    6.0   True\n",
            "d  NaN  NaN    3    NaN  False\n"
          ],
          "name": "stdout"
        }
      ]
    },
    {
      "cell_type": "code",
      "metadata": {
        "id": "65xKnlLLj-re",
        "colab_type": "code",
        "colab": {},
        "outputId": "28a0c29b-a03a-498c-aed3-544b932ea248"
      },
      "source": [
        "df['one'][2:]"
      ],
      "execution_count": 0,
      "outputs": [
        {
          "output_type": "execute_result",
          "data": {
            "text/plain": [
              "c    3.0\n",
              "d    NaN\n",
              "Name: one, dtype: float64"
            ]
          },
          "metadata": {
            "tags": []
          },
          "execution_count": 51
        }
      ]
    },
    {
      "cell_type": "code",
      "metadata": {
        "id": "sTUoqBnPj-rf",
        "colab_type": "code",
        "colab": {},
        "outputId": "90522a0f-5970-4c8e-facb-33ff2325cdfa"
      },
      "source": [
        "# Deleting Columns  \n",
        "three = df.pop('three')\n",
        "print(df.head(), end = end_string)\n",
        "# Propagation of values\n",
        "df['foo'] = 'bar'\n",
        "print(df, end = end_string)"
      ],
      "execution_count": 0,
      "outputs": [
        {
          "output_type": "stream",
          "text": [
            "   one  bar  two   flag\n",
            "a  1.0  NaN    0  False\n",
            "b  2.0  NaN    1  False\n",
            "c  3.0  3.0    2   True\n",
            "d  NaN  NaN    3  False\n",
            "--------------------------------------------------\n",
            "   one  bar  two   flag  foo\n",
            "a  1.0  NaN    0  False  bar\n",
            "b  2.0  NaN    1  False  bar\n",
            "c  3.0  3.0    2   True  bar\n",
            "d  NaN  NaN    3  False  bar\n",
            "--------------------------------------------------\n"
          ],
          "name": "stdout"
        }
      ]
    },
    {
      "cell_type": "markdown",
      "metadata": {
        "id": "YYXmRVyTj-rf",
        "colab_type": "text"
      },
      "source": [
        "## Indexing and Selection \n",
        "\n",
        "- 4 methods ``` [], ix, iloc, loc ```\n",
        "\n",
        "| Operation  | Syntax       | Result | \n",
        "|----|----------------------| ---------------------------|\n",
        "| Select Column | df[col]   |    Series                      |\n",
        "| Select Row by Label | df.loc[label] | Series  |\n",
        "| Select Row by Integer Location | df.iloc[idx] |      Series                    |\n",
        "| Slice rows | df[5:10]        |                        DataFrame  | \n",
        "| Select rows by boolean | df[mask]   | DataFrame        |\n",
        "\n",
        "- Note all the operations below are valid on series as well restricted to one dimension"
      ]
    },
    {
      "cell_type": "markdown",
      "metadata": {
        "id": "xows089jj-rg",
        "colab_type": "text"
      },
      "source": [
        "## Simplest form Of Indexing: []\n",
        "- Series: selecting a label: s[label] \n",
        "- DataFrame: selection single or multiple columns: \n",
        "``` python \n",
        "df['col'] or df[['col1', 'col2']] ``` \n",
        "- DataFrame: slicing the rows:\n",
        "``` python\n",
        "df['rowlabel1': 'rowlabel2'] ``` \n",
        "or \n",
        "``` python \n",
        "df[boolean_mask] ``` "
      ]
    },
    {
      "cell_type": "code",
      "metadata": {
        "id": "H_Jo4uI6j-rg",
        "colab_type": "code",
        "colab": {},
        "outputId": "984a9a1f-ccae-46e6-e1ea-053af501e142"
      },
      "source": [
        "# Lets create a data frame\n",
        "pd.options.display.max_rows = 4\n",
        "dates = pd.date_range('1/1/2000', periods=8)\n",
        "df = pd.DataFrame(np.random.randn(8, 4), index=dates, columns=['A', 'B', 'C','D'])\n",
        "df"
      ],
      "execution_count": 0,
      "outputs": [
        {
          "output_type": "execute_result",
          "data": {
            "text/html": [
              "<div>\n",
              "<style scoped>\n",
              "    .dataframe tbody tr th:only-of-type {\n",
              "        vertical-align: middle;\n",
              "    }\n",
              "\n",
              "    .dataframe tbody tr th {\n",
              "        vertical-align: top;\n",
              "    }\n",
              "\n",
              "    .dataframe thead th {\n",
              "        text-align: right;\n",
              "    }\n",
              "</style>\n",
              "<table border=\"1\" class=\"dataframe\">\n",
              "  <thead>\n",
              "    <tr style=\"text-align: right;\">\n",
              "      <th></th>\n",
              "      <th>A</th>\n",
              "      <th>B</th>\n",
              "      <th>C</th>\n",
              "      <th>D</th>\n",
              "    </tr>\n",
              "  </thead>\n",
              "  <tbody>\n",
              "    <tr>\n",
              "      <th>2000-01-01</th>\n",
              "      <td>-0.988370</td>\n",
              "      <td>-0.983048</td>\n",
              "      <td>-0.507036</td>\n",
              "      <td>-0.281814</td>\n",
              "    </tr>\n",
              "    <tr>\n",
              "      <th>2000-01-02</th>\n",
              "      <td>1.870802</td>\n",
              "      <td>-1.361491</td>\n",
              "      <td>0.911855</td>\n",
              "      <td>0.942663</td>\n",
              "    </tr>\n",
              "    <tr>\n",
              "      <th>...</th>\n",
              "      <td>...</td>\n",
              "      <td>...</td>\n",
              "      <td>...</td>\n",
              "      <td>...</td>\n",
              "    </tr>\n",
              "    <tr>\n",
              "      <th>2000-01-07</th>\n",
              "      <td>0.269748</td>\n",
              "      <td>-0.491527</td>\n",
              "      <td>-1.036829</td>\n",
              "      <td>2.824974</td>\n",
              "    </tr>\n",
              "    <tr>\n",
              "      <th>2000-01-08</th>\n",
              "      <td>-0.593628</td>\n",
              "      <td>-0.429605</td>\n",
              "      <td>-1.115690</td>\n",
              "      <td>1.155147</td>\n",
              "    </tr>\n",
              "  </tbody>\n",
              "</table>\n",
              "<p>8 rows × 4 columns</p>\n",
              "</div>"
            ],
            "text/plain": [
              "                   A         B         C         D\n",
              "2000-01-01 -0.988370 -0.983048 -0.507036 -0.281814\n",
              "2000-01-02  1.870802 -1.361491  0.911855  0.942663\n",
              "...              ...       ...       ...       ...\n",
              "2000-01-07  0.269748 -0.491527 -1.036829  2.824974\n",
              "2000-01-08 -0.593628 -0.429605 -1.115690  1.155147\n",
              "\n",
              "[8 rows x 4 columns]"
            ]
          },
          "metadata": {
            "tags": []
          },
          "execution_count": 62
        }
      ]
    },
    {
      "cell_type": "code",
      "metadata": {
        "id": "2HJIj9Aij-rh",
        "colab_type": "code",
        "colab": {}
      },
      "source": [
        "pd.date_range?"
      ],
      "execution_count": 0,
      "outputs": []
    },
    {
      "cell_type": "code",
      "metadata": {
        "id": "uoIDhBYhj-rh",
        "colab_type": "code",
        "colab": {},
        "outputId": "2558f936-c33a-4244-ebd3-6ceaf5b0f331"
      },
      "source": [
        "# column  'A\n",
        "df['A']"
      ],
      "execution_count": 0,
      "outputs": [
        {
          "output_type": "execute_result",
          "data": {
            "text/plain": [
              "2000-01-01   -0.988370\n",
              "2000-01-02    1.870802\n",
              "                ...   \n",
              "2000-01-07    0.269748\n",
              "2000-01-08   -0.593628\n",
              "Freq: D, Name: A, Length: 8, dtype: float64"
            ]
          },
          "metadata": {
            "tags": []
          },
          "execution_count": 64
        }
      ]
    },
    {
      "cell_type": "code",
      "metadata": {
        "id": "QY0rLcLZj-ri",
        "colab_type": "code",
        "colab": {},
        "outputId": "7cdd52bd-aae6-410b-c051-9f6b366e81cb"
      },
      "source": [
        "df.loc[:,'A':'C']"
      ],
      "execution_count": 0,
      "outputs": [
        {
          "output_type": "execute_result",
          "data": {
            "text/html": [
              "<div>\n",
              "<style scoped>\n",
              "    .dataframe tbody tr th:only-of-type {\n",
              "        vertical-align: middle;\n",
              "    }\n",
              "\n",
              "    .dataframe tbody tr th {\n",
              "        vertical-align: top;\n",
              "    }\n",
              "\n",
              "    .dataframe thead th {\n",
              "        text-align: right;\n",
              "    }\n",
              "</style>\n",
              "<table border=\"1\" class=\"dataframe\">\n",
              "  <thead>\n",
              "    <tr style=\"text-align: right;\">\n",
              "      <th></th>\n",
              "      <th>A</th>\n",
              "      <th>B</th>\n",
              "      <th>C</th>\n",
              "    </tr>\n",
              "  </thead>\n",
              "  <tbody>\n",
              "    <tr>\n",
              "      <th>2000-01-01</th>\n",
              "      <td>-0.988370</td>\n",
              "      <td>-0.983048</td>\n",
              "      <td>-0.507036</td>\n",
              "    </tr>\n",
              "    <tr>\n",
              "      <th>2000-01-02</th>\n",
              "      <td>1.870802</td>\n",
              "      <td>-1.361491</td>\n",
              "      <td>0.911855</td>\n",
              "    </tr>\n",
              "    <tr>\n",
              "      <th>...</th>\n",
              "      <td>...</td>\n",
              "      <td>...</td>\n",
              "      <td>...</td>\n",
              "    </tr>\n",
              "    <tr>\n",
              "      <th>2000-01-07</th>\n",
              "      <td>0.269748</td>\n",
              "      <td>-0.491527</td>\n",
              "      <td>-1.036829</td>\n",
              "    </tr>\n",
              "    <tr>\n",
              "      <th>2000-01-08</th>\n",
              "      <td>-0.593628</td>\n",
              "      <td>-0.429605</td>\n",
              "      <td>-1.115690</td>\n",
              "    </tr>\n",
              "  </tbody>\n",
              "</table>\n",
              "<p>8 rows × 3 columns</p>\n",
              "</div>"
            ],
            "text/plain": [
              "                   A         B         C\n",
              "2000-01-01 -0.988370 -0.983048 -0.507036\n",
              "2000-01-02  1.870802 -1.361491  0.911855\n",
              "...              ...       ...       ...\n",
              "2000-01-07  0.269748 -0.491527 -1.036829\n",
              "2000-01-08 -0.593628 -0.429605 -1.115690\n",
              "\n",
              "[8 rows x 3 columns]"
            ]
          },
          "metadata": {
            "tags": []
          },
          "execution_count": 68
        }
      ]
    },
    {
      "cell_type": "code",
      "metadata": {
        "id": "nbtZaiFzj-rj",
        "colab_type": "code",
        "colab": {},
        "outputId": "78529b96-b5e8-46c4-8082-8754c699e482"
      },
      "source": [
        "# multiple column \n",
        "df[['A', 'B']]"
      ],
      "execution_count": 0,
      "outputs": [
        {
          "output_type": "execute_result",
          "data": {
            "text/html": [
              "<div>\n",
              "<style scoped>\n",
              "    .dataframe tbody tr th:only-of-type {\n",
              "        vertical-align: middle;\n",
              "    }\n",
              "\n",
              "    .dataframe tbody tr th {\n",
              "        vertical-align: top;\n",
              "    }\n",
              "\n",
              "    .dataframe thead th {\n",
              "        text-align: right;\n",
              "    }\n",
              "</style>\n",
              "<table border=\"1\" class=\"dataframe\">\n",
              "  <thead>\n",
              "    <tr style=\"text-align: right;\">\n",
              "      <th></th>\n",
              "      <th>A</th>\n",
              "      <th>B</th>\n",
              "    </tr>\n",
              "  </thead>\n",
              "  <tbody>\n",
              "    <tr>\n",
              "      <th>2000-01-01</th>\n",
              "      <td>-0.988370</td>\n",
              "      <td>-0.983048</td>\n",
              "    </tr>\n",
              "    <tr>\n",
              "      <th>2000-01-02</th>\n",
              "      <td>1.870802</td>\n",
              "      <td>-1.361491</td>\n",
              "    </tr>\n",
              "    <tr>\n",
              "      <th>...</th>\n",
              "      <td>...</td>\n",
              "      <td>...</td>\n",
              "    </tr>\n",
              "    <tr>\n",
              "      <th>2000-01-07</th>\n",
              "      <td>0.269748</td>\n",
              "      <td>-0.491527</td>\n",
              "    </tr>\n",
              "    <tr>\n",
              "      <th>2000-01-08</th>\n",
              "      <td>-0.593628</td>\n",
              "      <td>-0.429605</td>\n",
              "    </tr>\n",
              "  </tbody>\n",
              "</table>\n",
              "<p>8 rows × 2 columns</p>\n",
              "</div>"
            ],
            "text/plain": [
              "                   A         B\n",
              "2000-01-01 -0.988370 -0.983048\n",
              "2000-01-02  1.870802 -1.361491\n",
              "...              ...       ...\n",
              "2000-01-07  0.269748 -0.491527\n",
              "2000-01-08 -0.593628 -0.429605\n",
              "\n",
              "[8 rows x 2 columns]"
            ]
          },
          "metadata": {
            "tags": []
          },
          "execution_count": 66
        }
      ]
    },
    {
      "cell_type": "code",
      "metadata": {
        "id": "kjiOthNYj-rk",
        "colab_type": "code",
        "colab": {},
        "outputId": "08d8ad04-26c2-4c7d-bfc2-946c2a38c559"
      },
      "source": [
        "# slice by rows\n",
        "df['2000-01-01': '2000-01-04']"
      ],
      "execution_count": 0,
      "outputs": [
        {
          "output_type": "execute_result",
          "data": {
            "text/html": [
              "<div>\n",
              "<style scoped>\n",
              "    .dataframe tbody tr th:only-of-type {\n",
              "        vertical-align: middle;\n",
              "    }\n",
              "\n",
              "    .dataframe tbody tr th {\n",
              "        vertical-align: top;\n",
              "    }\n",
              "\n",
              "    .dataframe thead th {\n",
              "        text-align: right;\n",
              "    }\n",
              "</style>\n",
              "<table border=\"1\" class=\"dataframe\">\n",
              "  <thead>\n",
              "    <tr style=\"text-align: right;\">\n",
              "      <th></th>\n",
              "      <th>A</th>\n",
              "      <th>B</th>\n",
              "      <th>C</th>\n",
              "      <th>D</th>\n",
              "    </tr>\n",
              "  </thead>\n",
              "  <tbody>\n",
              "    <tr>\n",
              "      <th>2000-01-01</th>\n",
              "      <td>-0.988370</td>\n",
              "      <td>-0.983048</td>\n",
              "      <td>-0.507036</td>\n",
              "      <td>-0.281814</td>\n",
              "    </tr>\n",
              "    <tr>\n",
              "      <th>2000-01-02</th>\n",
              "      <td>1.870802</td>\n",
              "      <td>-1.361491</td>\n",
              "      <td>0.911855</td>\n",
              "      <td>0.942663</td>\n",
              "    </tr>\n",
              "    <tr>\n",
              "      <th>2000-01-03</th>\n",
              "      <td>1.473455</td>\n",
              "      <td>-1.033850</td>\n",
              "      <td>-0.263446</td>\n",
              "      <td>0.342388</td>\n",
              "    </tr>\n",
              "    <tr>\n",
              "      <th>2000-01-04</th>\n",
              "      <td>0.999093</td>\n",
              "      <td>-0.861288</td>\n",
              "      <td>-1.321030</td>\n",
              "      <td>-0.257370</td>\n",
              "    </tr>\n",
              "  </tbody>\n",
              "</table>\n",
              "</div>"
            ],
            "text/plain": [
              "                   A         B         C         D\n",
              "2000-01-01 -0.988370 -0.983048 -0.507036 -0.281814\n",
              "2000-01-02  1.870802 -1.361491  0.911855  0.942663\n",
              "2000-01-03  1.473455 -1.033850 -0.263446  0.342388\n",
              "2000-01-04  0.999093 -0.861288 -1.321030 -0.257370"
            ]
          },
          "metadata": {
            "tags": []
          },
          "execution_count": 75
        }
      ]
    },
    {
      "cell_type": "code",
      "metadata": {
        "id": "oriln0h9j-rl",
        "colab_type": "code",
        "colab": {},
        "outputId": "59cd58ad-b07c-4913-ff3e-81bd1462d0ed"
      },
      "source": [
        "df[df.index.day==7]"
      ],
      "execution_count": 0,
      "outputs": [
        {
          "output_type": "execute_result",
          "data": {
            "text/html": [
              "<div>\n",
              "<style scoped>\n",
              "    .dataframe tbody tr th:only-of-type {\n",
              "        vertical-align: middle;\n",
              "    }\n",
              "\n",
              "    .dataframe tbody tr th {\n",
              "        vertical-align: top;\n",
              "    }\n",
              "\n",
              "    .dataframe thead th {\n",
              "        text-align: right;\n",
              "    }\n",
              "</style>\n",
              "<table border=\"1\" class=\"dataframe\">\n",
              "  <thead>\n",
              "    <tr style=\"text-align: right;\">\n",
              "      <th></th>\n",
              "      <th>A</th>\n",
              "      <th>B</th>\n",
              "      <th>C</th>\n",
              "      <th>D</th>\n",
              "    </tr>\n",
              "  </thead>\n",
              "  <tbody>\n",
              "    <tr>\n",
              "      <th>2000-01-07</th>\n",
              "      <td>0.269748</td>\n",
              "      <td>-0.491527</td>\n",
              "      <td>-1.036829</td>\n",
              "      <td>2.824974</td>\n",
              "    </tr>\n",
              "  </tbody>\n",
              "</table>\n",
              "</div>"
            ],
            "text/plain": [
              "                   A         B         C         D\n",
              "2000-01-07  0.269748 -0.491527 -1.036829  2.824974"
            ]
          },
          "metadata": {
            "tags": []
          },
          "execution_count": 79
        }
      ]
    },
    {
      "cell_type": "code",
      "metadata": {
        "id": "S94WHBxdj-rm",
        "colab_type": "code",
        "colab": {},
        "outputId": "e9d42198-502a-46be-c434-540fdada8388"
      },
      "source": [
        "# boolean mask \n",
        "df[df['A'] > df['B']]"
      ],
      "execution_count": 0,
      "outputs": [
        {
          "output_type": "execute_result",
          "data": {
            "text/html": [
              "<div>\n",
              "<style scoped>\n",
              "    .dataframe tbody tr th:only-of-type {\n",
              "        vertical-align: middle;\n",
              "    }\n",
              "\n",
              "    .dataframe tbody tr th {\n",
              "        vertical-align: top;\n",
              "    }\n",
              "\n",
              "    .dataframe thead th {\n",
              "        text-align: right;\n",
              "    }\n",
              "</style>\n",
              "<table border=\"1\" class=\"dataframe\">\n",
              "  <thead>\n",
              "    <tr style=\"text-align: right;\">\n",
              "      <th></th>\n",
              "      <th>A</th>\n",
              "      <th>B</th>\n",
              "      <th>C</th>\n",
              "      <th>D</th>\n",
              "    </tr>\n",
              "  </thead>\n",
              "  <tbody>\n",
              "    <tr>\n",
              "      <th>2000-01-02</th>\n",
              "      <td>1.870802</td>\n",
              "      <td>-1.361491</td>\n",
              "      <td>0.911855</td>\n",
              "      <td>0.942663</td>\n",
              "    </tr>\n",
              "    <tr>\n",
              "      <th>2000-01-03</th>\n",
              "      <td>1.473455</td>\n",
              "      <td>-1.033850</td>\n",
              "      <td>-0.263446</td>\n",
              "      <td>0.342388</td>\n",
              "    </tr>\n",
              "    <tr>\n",
              "      <th>...</th>\n",
              "      <td>...</td>\n",
              "      <td>...</td>\n",
              "      <td>...</td>\n",
              "      <td>...</td>\n",
              "    </tr>\n",
              "    <tr>\n",
              "      <th>2000-01-05</th>\n",
              "      <td>0.063737</td>\n",
              "      <td>-0.833970</td>\n",
              "      <td>-0.559272</td>\n",
              "      <td>1.048252</td>\n",
              "    </tr>\n",
              "    <tr>\n",
              "      <th>2000-01-07</th>\n",
              "      <td>0.269748</td>\n",
              "      <td>-0.491527</td>\n",
              "      <td>-1.036829</td>\n",
              "      <td>2.824974</td>\n",
              "    </tr>\n",
              "  </tbody>\n",
              "</table>\n",
              "<p>5 rows × 4 columns</p>\n",
              "</div>"
            ],
            "text/plain": [
              "                   A         B         C         D\n",
              "2000-01-02  1.870802 -1.361491  0.911855  0.942663\n",
              "2000-01-03  1.473455 -1.033850 -0.263446  0.342388\n",
              "...              ...       ...       ...       ...\n",
              "2000-01-05  0.063737 -0.833970 -0.559272  1.048252\n",
              "2000-01-07  0.269748 -0.491527 -1.036829  2.824974\n",
              "\n",
              "[5 rows x 4 columns]"
            ]
          },
          "metadata": {
            "tags": []
          },
          "execution_count": 72
        }
      ]
    },
    {
      "cell_type": "code",
      "metadata": {
        "id": "79xHs88dj-rn",
        "colab_type": "code",
        "colab": {},
        "outputId": "1aaa09cf-2a5d-479d-e756-cba4a57c19d5"
      },
      "source": [
        "# Assign via []\n",
        "df['A'] = df['B'].values\n",
        "df"
      ],
      "execution_count": 0,
      "outputs": [
        {
          "output_type": "execute_result",
          "data": {
            "text/html": [
              "<div>\n",
              "<style scoped>\n",
              "    .dataframe tbody tr th:only-of-type {\n",
              "        vertical-align: middle;\n",
              "    }\n",
              "\n",
              "    .dataframe tbody tr th {\n",
              "        vertical-align: top;\n",
              "    }\n",
              "\n",
              "    .dataframe thead th {\n",
              "        text-align: right;\n",
              "    }\n",
              "</style>\n",
              "<table border=\"1\" class=\"dataframe\">\n",
              "  <thead>\n",
              "    <tr style=\"text-align: right;\">\n",
              "      <th></th>\n",
              "      <th>A</th>\n",
              "      <th>B</th>\n",
              "      <th>C</th>\n",
              "      <th>D</th>\n",
              "    </tr>\n",
              "  </thead>\n",
              "  <tbody>\n",
              "    <tr>\n",
              "      <th>2000-01-01</th>\n",
              "      <td>-0.983048</td>\n",
              "      <td>-0.983048</td>\n",
              "      <td>-0.507036</td>\n",
              "      <td>-0.281814</td>\n",
              "    </tr>\n",
              "    <tr>\n",
              "      <th>2000-01-02</th>\n",
              "      <td>-1.361491</td>\n",
              "      <td>-1.361491</td>\n",
              "      <td>0.911855</td>\n",
              "      <td>0.942663</td>\n",
              "    </tr>\n",
              "    <tr>\n",
              "      <th>...</th>\n",
              "      <td>...</td>\n",
              "      <td>...</td>\n",
              "      <td>...</td>\n",
              "      <td>...</td>\n",
              "    </tr>\n",
              "    <tr>\n",
              "      <th>2000-01-07</th>\n",
              "      <td>-0.491527</td>\n",
              "      <td>-0.491527</td>\n",
              "      <td>-1.036829</td>\n",
              "      <td>2.824974</td>\n",
              "    </tr>\n",
              "    <tr>\n",
              "      <th>2000-01-08</th>\n",
              "      <td>-0.429605</td>\n",
              "      <td>-0.429605</td>\n",
              "      <td>-1.115690</td>\n",
              "      <td>1.155147</td>\n",
              "    </tr>\n",
              "  </tbody>\n",
              "</table>\n",
              "<p>8 rows × 4 columns</p>\n",
              "</div>"
            ],
            "text/plain": [
              "                   A         B         C         D\n",
              "2000-01-01 -0.983048 -0.983048 -0.507036 -0.281814\n",
              "2000-01-02 -1.361491 -1.361491  0.911855  0.942663\n",
              "...              ...       ...       ...       ...\n",
              "2000-01-07 -0.491527 -0.491527 -1.036829  2.824974\n",
              "2000-01-08 -0.429605 -0.429605 -1.115690  1.155147\n",
              "\n",
              "[8 rows x 4 columns]"
            ]
          },
          "metadata": {
            "tags": []
          },
          "execution_count": 81
        }
      ]
    },
    {
      "cell_type": "code",
      "metadata": {
        "id": "58DZ8L1Fj-ro",
        "colab_type": "code",
        "colab": {},
        "outputId": "35643ba8-e880-4b06-e672-58c3a331e81b"
      },
      "source": [
        "### You can also access a column by df.colname\n",
        "df.A"
      ],
      "execution_count": 0,
      "outputs": [
        {
          "output_type": "execute_result",
          "data": {
            "text/plain": [
              "2000-01-01   -0.983048\n",
              "2000-01-02   -1.361491\n",
              "                ...   \n",
              "2000-01-07   -0.491527\n",
              "2000-01-08   -0.429605\n",
              "Freq: D, Name: A, Length: 8, dtype: float64"
            ]
          },
          "metadata": {
            "tags": []
          },
          "execution_count": 82
        }
      ]
    },
    {
      "cell_type": "markdown",
      "metadata": {
        "id": "5tPIZFD6j-rp",
        "colab_type": "text"
      },
      "source": [
        "## Selecting by label .loc\n",
        "\n",
        "- is primarily label based, but may also be used with a boolean array.\n",
        "- .loc will raise KeyError when the items are not found\n",
        "- Allowed inputs:\n",
        "    1. A single label \n",
        "    2. A list of labels\n",
        "    3. A boolean array"
      ]
    },
    {
      "cell_type": "code",
      "metadata": {
        "id": "mYDbvDprj-rp",
        "colab_type": "code",
        "colab": {},
        "outputId": "ff709e38-d706-402f-f67e-558e6fdc11a2"
      },
      "source": [
        "## Selection by label .loc\n",
        "df.loc['2000-01-01']"
      ],
      "execution_count": 0,
      "outputs": [
        {
          "output_type": "execute_result",
          "data": {
            "text/plain": [
              "A   -0.983048\n",
              "B   -0.983048\n",
              "C   -0.507036\n",
              "D   -0.281814\n",
              "Name: 2000-01-01 00:00:00, dtype: float64"
            ]
          },
          "metadata": {
            "tags": []
          },
          "execution_count": 83
        }
      ]
    },
    {
      "cell_type": "code",
      "metadata": {
        "id": "k1olAgL1j-rq",
        "colab_type": "code",
        "colab": {},
        "outputId": "79ba77e7-e3e2-4f00-d244-6a7833246b9d"
      },
      "source": [
        "df.loc['2000-01-01':'2000-01-04', 'A':'C']"
      ],
      "execution_count": 0,
      "outputs": [
        {
          "output_type": "execute_result",
          "data": {
            "text/html": [
              "<div>\n",
              "<style scoped>\n",
              "    .dataframe tbody tr th:only-of-type {\n",
              "        vertical-align: middle;\n",
              "    }\n",
              "\n",
              "    .dataframe tbody tr th {\n",
              "        vertical-align: top;\n",
              "    }\n",
              "\n",
              "    .dataframe thead th {\n",
              "        text-align: right;\n",
              "    }\n",
              "</style>\n",
              "<table border=\"1\" class=\"dataframe\">\n",
              "  <thead>\n",
              "    <tr style=\"text-align: right;\">\n",
              "      <th></th>\n",
              "      <th>A</th>\n",
              "      <th>B</th>\n",
              "      <th>C</th>\n",
              "    </tr>\n",
              "  </thead>\n",
              "  <tbody>\n",
              "    <tr>\n",
              "      <th>2000-01-01</th>\n",
              "      <td>-0.983048</td>\n",
              "      <td>-0.983048</td>\n",
              "      <td>-0.507036</td>\n",
              "    </tr>\n",
              "    <tr>\n",
              "      <th>2000-01-02</th>\n",
              "      <td>-1.361491</td>\n",
              "      <td>-1.361491</td>\n",
              "      <td>0.911855</td>\n",
              "    </tr>\n",
              "    <tr>\n",
              "      <th>2000-01-03</th>\n",
              "      <td>-1.033850</td>\n",
              "      <td>-1.033850</td>\n",
              "      <td>-0.263446</td>\n",
              "    </tr>\n",
              "    <tr>\n",
              "      <th>2000-01-04</th>\n",
              "      <td>-0.861288</td>\n",
              "      <td>-0.861288</td>\n",
              "      <td>-1.321030</td>\n",
              "    </tr>\n",
              "  </tbody>\n",
              "</table>\n",
              "</div>"
            ],
            "text/plain": [
              "                   A         B         C\n",
              "2000-01-01 -0.983048 -0.983048 -0.507036\n",
              "2000-01-02 -1.361491 -1.361491  0.911855\n",
              "2000-01-03 -1.033850 -1.033850 -0.263446\n",
              "2000-01-04 -0.861288 -0.861288 -1.321030"
            ]
          },
          "metadata": {
            "tags": []
          },
          "execution_count": 85
        }
      ]
    },
    {
      "cell_type": "code",
      "metadata": {
        "id": "teARVNlrj-rq",
        "colab_type": "code",
        "colab": {},
        "outputId": "b27586ad-d66f-47fe-cc21-b58c82e40d41"
      },
      "source": [
        "# Get columns for which value is greater than 0 on certain day, get all rows\n",
        "df.loc[:, df.loc['2000-01-02'] > 0]"
      ],
      "execution_count": 0,
      "outputs": [
        {
          "output_type": "execute_result",
          "data": {
            "text/html": [
              "<div>\n",
              "<style scoped>\n",
              "    .dataframe tbody tr th:only-of-type {\n",
              "        vertical-align: middle;\n",
              "    }\n",
              "\n",
              "    .dataframe tbody tr th {\n",
              "        vertical-align: top;\n",
              "    }\n",
              "\n",
              "    .dataframe thead th {\n",
              "        text-align: right;\n",
              "    }\n",
              "</style>\n",
              "<table border=\"1\" class=\"dataframe\">\n",
              "  <thead>\n",
              "    <tr style=\"text-align: right;\">\n",
              "      <th></th>\n",
              "      <th>C</th>\n",
              "      <th>D</th>\n",
              "    </tr>\n",
              "  </thead>\n",
              "  <tbody>\n",
              "    <tr>\n",
              "      <th>2000-01-01</th>\n",
              "      <td>-0.507036</td>\n",
              "      <td>-0.281814</td>\n",
              "    </tr>\n",
              "    <tr>\n",
              "      <th>2000-01-02</th>\n",
              "      <td>0.911855</td>\n",
              "      <td>0.942663</td>\n",
              "    </tr>\n",
              "    <tr>\n",
              "      <th>...</th>\n",
              "      <td>...</td>\n",
              "      <td>...</td>\n",
              "    </tr>\n",
              "    <tr>\n",
              "      <th>2000-01-07</th>\n",
              "      <td>-1.036829</td>\n",
              "      <td>2.824974</td>\n",
              "    </tr>\n",
              "    <tr>\n",
              "      <th>2000-01-08</th>\n",
              "      <td>-1.115690</td>\n",
              "      <td>1.155147</td>\n",
              "    </tr>\n",
              "  </tbody>\n",
              "</table>\n",
              "<p>8 rows × 2 columns</p>\n",
              "</div>"
            ],
            "text/plain": [
              "                   C         D\n",
              "2000-01-01 -0.507036 -0.281814\n",
              "2000-01-02  0.911855  0.942663\n",
              "...              ...       ...\n",
              "2000-01-07 -1.036829  2.824974\n",
              "2000-01-08 -1.115690  1.155147\n",
              "\n",
              "[8 rows x 2 columns]"
            ]
          },
          "metadata": {
            "tags": []
          },
          "execution_count": 87
        }
      ]
    },
    {
      "cell_type": "markdown",
      "metadata": {
        "id": "TQqt_Tw7j-rr",
        "colab_type": "text"
      },
      "source": [
        "## Selecting by position \n",
        "\n",
        "- The .iloc attribute is the primary access method. The following are valid input:\n",
        "    - An integer\n",
        "    - A list of integers\n",
        "    - A slice \n",
        "    - A boolean array"
      ]
    },
    {
      "cell_type": "code",
      "metadata": {
        "id": "GXMPLToRj-rs",
        "colab_type": "code",
        "colab": {},
        "outputId": "a16edee1-df0e-436c-c49a-4554ec410f76"
      },
      "source": [
        "df1 = pd.DataFrame(np.random.randn(6,4), \n",
        "                   index=list(range(0,12,2)), columns=list(range(0,12,3)))\n",
        "\n",
        "df1"
      ],
      "execution_count": 0,
      "outputs": [
        {
          "output_type": "execute_result",
          "data": {
            "text/html": [
              "<div>\n",
              "<style scoped>\n",
              "    .dataframe tbody tr th:only-of-type {\n",
              "        vertical-align: middle;\n",
              "    }\n",
              "\n",
              "    .dataframe tbody tr th {\n",
              "        vertical-align: top;\n",
              "    }\n",
              "\n",
              "    .dataframe thead th {\n",
              "        text-align: right;\n",
              "    }\n",
              "</style>\n",
              "<table border=\"1\" class=\"dataframe\">\n",
              "  <thead>\n",
              "    <tr style=\"text-align: right;\">\n",
              "      <th></th>\n",
              "      <th>0</th>\n",
              "      <th>3</th>\n",
              "      <th>6</th>\n",
              "      <th>9</th>\n",
              "    </tr>\n",
              "  </thead>\n",
              "  <tbody>\n",
              "    <tr>\n",
              "      <th>0</th>\n",
              "      <td>0.968510</td>\n",
              "      <td>0.691418</td>\n",
              "      <td>0.101302</td>\n",
              "      <td>-0.638216</td>\n",
              "    </tr>\n",
              "    <tr>\n",
              "      <th>2</th>\n",
              "      <td>0.298637</td>\n",
              "      <td>1.605779</td>\n",
              "      <td>1.298885</td>\n",
              "      <td>-1.140527</td>\n",
              "    </tr>\n",
              "    <tr>\n",
              "      <th>...</th>\n",
              "      <td>...</td>\n",
              "      <td>...</td>\n",
              "      <td>...</td>\n",
              "      <td>...</td>\n",
              "    </tr>\n",
              "    <tr>\n",
              "      <th>8</th>\n",
              "      <td>-0.279953</td>\n",
              "      <td>1.349556</td>\n",
              "      <td>-0.662663</td>\n",
              "      <td>0.211868</td>\n",
              "    </tr>\n",
              "    <tr>\n",
              "      <th>10</th>\n",
              "      <td>-0.243395</td>\n",
              "      <td>0.164739</td>\n",
              "      <td>3.200408</td>\n",
              "      <td>-0.367803</td>\n",
              "    </tr>\n",
              "  </tbody>\n",
              "</table>\n",
              "<p>6 rows × 4 columns</p>\n",
              "</div>"
            ],
            "text/plain": [
              "           0         3         6         9\n",
              "0   0.968510  0.691418  0.101302 -0.638216\n",
              "2   0.298637  1.605779  1.298885 -1.140527\n",
              "..       ...       ...       ...       ...\n",
              "8  -0.279953  1.349556 -0.662663  0.211868\n",
              "10 -0.243395  0.164739  3.200408 -0.367803\n",
              "\n",
              "[6 rows x 4 columns]"
            ]
          },
          "metadata": {
            "tags": []
          },
          "execution_count": 88
        }
      ]
    },
    {
      "cell_type": "code",
      "metadata": {
        "id": "pMSfyRatj-rt",
        "colab_type": "code",
        "colab": {},
        "outputId": "55cc4974-9381-4419-bf0f-c76b4a8b7f0a"
      },
      "source": [
        "# rows 0-2\n",
        "df1.iloc[:3,:3]"
      ],
      "execution_count": 0,
      "outputs": [
        {
          "output_type": "execute_result",
          "data": {
            "text/html": [
              "<div>\n",
              "<style scoped>\n",
              "    .dataframe tbody tr th:only-of-type {\n",
              "        vertical-align: middle;\n",
              "    }\n",
              "\n",
              "    .dataframe tbody tr th {\n",
              "        vertical-align: top;\n",
              "    }\n",
              "\n",
              "    .dataframe thead th {\n",
              "        text-align: right;\n",
              "    }\n",
              "</style>\n",
              "<table border=\"1\" class=\"dataframe\">\n",
              "  <thead>\n",
              "    <tr style=\"text-align: right;\">\n",
              "      <th></th>\n",
              "      <th>0</th>\n",
              "      <th>3</th>\n",
              "      <th>6</th>\n",
              "    </tr>\n",
              "  </thead>\n",
              "  <tbody>\n",
              "    <tr>\n",
              "      <th>0</th>\n",
              "      <td>0.968510</td>\n",
              "      <td>0.691418</td>\n",
              "      <td>0.101302</td>\n",
              "    </tr>\n",
              "    <tr>\n",
              "      <th>2</th>\n",
              "      <td>0.298637</td>\n",
              "      <td>1.605779</td>\n",
              "      <td>1.298885</td>\n",
              "    </tr>\n",
              "    <tr>\n",
              "      <th>4</th>\n",
              "      <td>0.682809</td>\n",
              "      <td>0.153333</td>\n",
              "      <td>0.121721</td>\n",
              "    </tr>\n",
              "  </tbody>\n",
              "</table>\n",
              "</div>"
            ],
            "text/plain": [
              "          0         3         6\n",
              "0  0.968510  0.691418  0.101302\n",
              "2  0.298637  1.605779  1.298885\n",
              "4  0.682809  0.153333  0.121721"
            ]
          },
          "metadata": {
            "tags": []
          },
          "execution_count": 93
        }
      ]
    },
    {
      "cell_type": "code",
      "metadata": {
        "id": "CGDuPA-Nj-ru",
        "colab_type": "code",
        "colab": {},
        "outputId": "f51cdbea-7149-4ba5-aef4-f2a1a3041c77"
      },
      "source": [
        "#  rows 1:4  and columns 2 : 4\n",
        "df1.iloc[1:5, 2:4]"
      ],
      "execution_count": 0,
      "outputs": [
        {
          "output_type": "execute_result",
          "data": {
            "text/html": [
              "<div>\n",
              "<style scoped>\n",
              "    .dataframe tbody tr th:only-of-type {\n",
              "        vertical-align: middle;\n",
              "    }\n",
              "\n",
              "    .dataframe tbody tr th {\n",
              "        vertical-align: top;\n",
              "    }\n",
              "\n",
              "    .dataframe thead th {\n",
              "        text-align: right;\n",
              "    }\n",
              "</style>\n",
              "<table border=\"1\" class=\"dataframe\">\n",
              "  <thead>\n",
              "    <tr style=\"text-align: right;\">\n",
              "      <th></th>\n",
              "      <th>6</th>\n",
              "      <th>9</th>\n",
              "    </tr>\n",
              "  </thead>\n",
              "  <tbody>\n",
              "    <tr>\n",
              "      <th>2</th>\n",
              "      <td>1.298885</td>\n",
              "      <td>-1.140527</td>\n",
              "    </tr>\n",
              "    <tr>\n",
              "      <th>4</th>\n",
              "      <td>0.121721</td>\n",
              "      <td>1.411049</td>\n",
              "    </tr>\n",
              "    <tr>\n",
              "      <th>6</th>\n",
              "      <td>-0.004526</td>\n",
              "      <td>1.327424</td>\n",
              "    </tr>\n",
              "    <tr>\n",
              "      <th>8</th>\n",
              "      <td>-0.662663</td>\n",
              "      <td>0.211868</td>\n",
              "    </tr>\n",
              "  </tbody>\n",
              "</table>\n",
              "</div>"
            ],
            "text/plain": [
              "          6         9\n",
              "2  1.298885 -1.140527\n",
              "4  0.121721  1.411049\n",
              "6 -0.004526  1.327424\n",
              "8 -0.662663  0.211868"
            ]
          },
          "metadata": {
            "tags": []
          },
          "execution_count": 94
        }
      ]
    },
    {
      "cell_type": "code",
      "metadata": {
        "id": "X5iVqoVMj-ru",
        "colab_type": "code",
        "colab": {},
        "outputId": "a209caec-5cdf-4506-a7b2-c6ba2cf91f12"
      },
      "source": [
        "# select via integer list\n",
        "df1.iloc[[1,3,5], [1,3]]"
      ],
      "execution_count": 0,
      "outputs": [
        {
          "output_type": "execute_result",
          "data": {
            "text/html": [
              "<div>\n",
              "<style scoped>\n",
              "    .dataframe tbody tr th:only-of-type {\n",
              "        vertical-align: middle;\n",
              "    }\n",
              "\n",
              "    .dataframe tbody tr th {\n",
              "        vertical-align: top;\n",
              "    }\n",
              "\n",
              "    .dataframe thead th {\n",
              "        text-align: right;\n",
              "    }\n",
              "</style>\n",
              "<table border=\"1\" class=\"dataframe\">\n",
              "  <thead>\n",
              "    <tr style=\"text-align: right;\">\n",
              "      <th></th>\n",
              "      <th>3</th>\n",
              "      <th>9</th>\n",
              "    </tr>\n",
              "  </thead>\n",
              "  <tbody>\n",
              "    <tr>\n",
              "      <th>2</th>\n",
              "      <td>1.605779</td>\n",
              "      <td>-1.140527</td>\n",
              "    </tr>\n",
              "    <tr>\n",
              "      <th>6</th>\n",
              "      <td>-0.121077</td>\n",
              "      <td>1.327424</td>\n",
              "    </tr>\n",
              "    <tr>\n",
              "      <th>10</th>\n",
              "      <td>0.164739</td>\n",
              "      <td>-0.367803</td>\n",
              "    </tr>\n",
              "  </tbody>\n",
              "</table>\n",
              "</div>"
            ],
            "text/plain": [
              "           3         9\n",
              "2   1.605779 -1.140527\n",
              "6  -0.121077  1.327424\n",
              "10  0.164739 -0.367803"
            ]
          },
          "metadata": {
            "tags": []
          },
          "execution_count": 97
        }
      ]
    },
    {
      "cell_type": "code",
      "metadata": {
        "id": "96Da4DIKj-rv",
        "colab_type": "code",
        "colab": {},
        "outputId": "8dd78151-f9d2-4ca8-a6f2-472c2cf9716d"
      },
      "source": [
        "# selecting via integer mask \n",
        "boolean_mask = df1.iloc[:, 1] > 0.0\n",
        "df1.iloc[boolean_mask.values,1]"
      ],
      "execution_count": 0,
      "outputs": [
        {
          "output_type": "execute_result",
          "data": {
            "text/plain": [
              "0     0.691418\n",
              "2     1.605779\n",
              "        ...   \n",
              "8     1.349556\n",
              "10    0.164739\n",
              "Name: 3, Length: 5, dtype: float64"
            ]
          },
          "metadata": {
            "tags": []
          },
          "execution_count": 98
        }
      ]
    },
    {
      "cell_type": "markdown",
      "metadata": {
        "id": "ri0ozG0Ej-rw",
        "colab_type": "text"
      },
      "source": [
        "### Exercise\n",
        "\n",
        "Given the dataframe, find the following\n",
        "- Last two rows of columns A and D\n",
        "- Last three rows which satisfy that column A > Column B"
      ]
    },
    {
      "cell_type": "code",
      "metadata": {
        "id": "BPgywopYj-rw",
        "colab_type": "code",
        "colab": {},
        "outputId": "214a73d7-855f-4045-f525-cba69baab195"
      },
      "source": [
        "dates = pd.date_range('1/1/2000', periods=8)\n",
        "df = pd.DataFrame(np.random.randn(8, 4), index=dates, columns=['A', 'B', 'C','D'])\n",
        "df"
      ],
      "execution_count": 0,
      "outputs": [
        {
          "output_type": "execute_result",
          "data": {
            "text/html": [
              "<div>\n",
              "<style scoped>\n",
              "    .dataframe tbody tr th:only-of-type {\n",
              "        vertical-align: middle;\n",
              "    }\n",
              "\n",
              "    .dataframe tbody tr th {\n",
              "        vertical-align: top;\n",
              "    }\n",
              "\n",
              "    .dataframe thead th {\n",
              "        text-align: right;\n",
              "    }\n",
              "</style>\n",
              "<table border=\"1\" class=\"dataframe\">\n",
              "  <thead>\n",
              "    <tr style=\"text-align: right;\">\n",
              "      <th></th>\n",
              "      <th>A</th>\n",
              "      <th>B</th>\n",
              "      <th>C</th>\n",
              "      <th>D</th>\n",
              "    </tr>\n",
              "  </thead>\n",
              "  <tbody>\n",
              "    <tr>\n",
              "      <th>2000-01-01</th>\n",
              "      <td>-1.401474</td>\n",
              "      <td>-1.102861</td>\n",
              "      <td>-1.264127</td>\n",
              "      <td>-2.790829</td>\n",
              "    </tr>\n",
              "    <tr>\n",
              "      <th>2000-01-02</th>\n",
              "      <td>-1.243873</td>\n",
              "      <td>0.032206</td>\n",
              "      <td>-1.464710</td>\n",
              "      <td>2.219648</td>\n",
              "    </tr>\n",
              "    <tr>\n",
              "      <th>...</th>\n",
              "      <td>...</td>\n",
              "      <td>...</td>\n",
              "      <td>...</td>\n",
              "      <td>...</td>\n",
              "    </tr>\n",
              "    <tr>\n",
              "      <th>2000-01-07</th>\n",
              "      <td>0.666825</td>\n",
              "      <td>0.745169</td>\n",
              "      <td>1.792598</td>\n",
              "      <td>-1.189438</td>\n",
              "    </tr>\n",
              "    <tr>\n",
              "      <th>2000-01-08</th>\n",
              "      <td>-0.570101</td>\n",
              "      <td>0.374582</td>\n",
              "      <td>-0.594662</td>\n",
              "      <td>-1.150223</td>\n",
              "    </tr>\n",
              "  </tbody>\n",
              "</table>\n",
              "<p>8 rows × 4 columns</p>\n",
              "</div>"
            ],
            "text/plain": [
              "                   A         B         C         D\n",
              "2000-01-01 -1.401474 -1.102861 -1.264127 -2.790829\n",
              "2000-01-02 -1.243873  0.032206 -1.464710  2.219648\n",
              "...              ...       ...       ...       ...\n",
              "2000-01-07  0.666825  0.745169  1.792598 -1.189438\n",
              "2000-01-08 -0.570101  0.374582 -0.594662 -1.150223\n",
              "\n",
              "[8 rows x 4 columns]"
            ]
          },
          "metadata": {
            "tags": []
          },
          "execution_count": 99
        }
      ]
    },
    {
      "cell_type": "code",
      "metadata": {
        "id": "Frpc864uj-rx",
        "colab_type": "code",
        "colab": {},
        "outputId": "a3199cc0-e325-4768-a8d6-64f659899ad7"
      },
      "source": [
        "df[['A','D']].iloc[-2:]"
      ],
      "execution_count": 0,
      "outputs": [
        {
          "output_type": "execute_result",
          "data": {
            "text/html": [
              "<div>\n",
              "<style scoped>\n",
              "    .dataframe tbody tr th:only-of-type {\n",
              "        vertical-align: middle;\n",
              "    }\n",
              "\n",
              "    .dataframe tbody tr th {\n",
              "        vertical-align: top;\n",
              "    }\n",
              "\n",
              "    .dataframe thead th {\n",
              "        text-align: right;\n",
              "    }\n",
              "</style>\n",
              "<table border=\"1\" class=\"dataframe\">\n",
              "  <thead>\n",
              "    <tr style=\"text-align: right;\">\n",
              "      <th></th>\n",
              "      <th>A</th>\n",
              "      <th>D</th>\n",
              "    </tr>\n",
              "  </thead>\n",
              "  <tbody>\n",
              "    <tr>\n",
              "      <th>2000-01-07</th>\n",
              "      <td>0.666825</td>\n",
              "      <td>-1.189438</td>\n",
              "    </tr>\n",
              "    <tr>\n",
              "      <th>2000-01-08</th>\n",
              "      <td>-0.570101</td>\n",
              "      <td>-1.150223</td>\n",
              "    </tr>\n",
              "  </tbody>\n",
              "</table>\n",
              "</div>"
            ],
            "text/plain": [
              "                   A         D\n",
              "2000-01-07  0.666825 -1.189438\n",
              "2000-01-08 -0.570101 -1.150223"
            ]
          },
          "metadata": {
            "tags": []
          },
          "execution_count": 101
        }
      ]
    },
    {
      "cell_type": "code",
      "metadata": {
        "id": "D4g6GadHj-ry",
        "colab_type": "code",
        "colab": {},
        "outputId": "f581e7a6-c6f9-419f-9d08-f1a124edcce4"
      },
      "source": [
        "df.loc[df['A']>df['B'],:].iloc[-3:]"
      ],
      "execution_count": 0,
      "outputs": [
        {
          "output_type": "execute_result",
          "data": {
            "text/html": [
              "<div>\n",
              "<style scoped>\n",
              "    .dataframe tbody tr th:only-of-type {\n",
              "        vertical-align: middle;\n",
              "    }\n",
              "\n",
              "    .dataframe tbody tr th {\n",
              "        vertical-align: top;\n",
              "    }\n",
              "\n",
              "    .dataframe thead th {\n",
              "        text-align: right;\n",
              "    }\n",
              "</style>\n",
              "<table border=\"1\" class=\"dataframe\">\n",
              "  <thead>\n",
              "    <tr style=\"text-align: right;\">\n",
              "      <th></th>\n",
              "      <th>A</th>\n",
              "      <th>B</th>\n",
              "      <th>C</th>\n",
              "      <th>D</th>\n",
              "    </tr>\n",
              "  </thead>\n",
              "  <tbody>\n",
              "    <tr>\n",
              "      <th>2000-01-04</th>\n",
              "      <td>0.126705</td>\n",
              "      <td>-1.354199</td>\n",
              "      <td>-2.404477</td>\n",
              "      <td>-0.182848</td>\n",
              "    </tr>\n",
              "    <tr>\n",
              "      <th>2000-01-05</th>\n",
              "      <td>-0.944006</td>\n",
              "      <td>-1.362189</td>\n",
              "      <td>-0.984261</td>\n",
              "      <td>0.738310</td>\n",
              "    </tr>\n",
              "    <tr>\n",
              "      <th>2000-01-06</th>\n",
              "      <td>1.040052</td>\n",
              "      <td>-0.739519</td>\n",
              "      <td>0.780272</td>\n",
              "      <td>-0.763586</td>\n",
              "    </tr>\n",
              "  </tbody>\n",
              "</table>\n",
              "</div>"
            ],
            "text/plain": [
              "                   A         B         C         D\n",
              "2000-01-04  0.126705 -1.354199 -2.404477 -0.182848\n",
              "2000-01-05 -0.944006 -1.362189 -0.984261  0.738310\n",
              "2000-01-06  1.040052 -0.739519  0.780272 -0.763586"
            ]
          },
          "metadata": {
            "tags": []
          },
          "execution_count": 105
        }
      ]
    },
    {
      "cell_type": "markdown",
      "metadata": {
        "id": "Dd9q3zhsj-rz",
        "colab_type": "text"
      },
      "source": [
        "# Merging DataFrames\n",
        "\n",
        "- Pandas has full-featured, very high performance, in memory join operations that are very similar to SQL and R \n",
        "\n",
        "- The documentation is https://pandas.pydata.org/pandas-docs/stable/merging.html#database-style-dataframe-joining-merging\n",
        "\n",
        "- Pandas provides a single function, merge, as the entry point for all standard database join operations between DataFrame objects: \n",
        "``` python\n",
        "pd.merge(left, right, how='inner', on=None, left_on=None, right_on=None,\n",
        "left_index=False, right_index=False, sort=True) ```\n"
      ]
    },
    {
      "cell_type": "code",
      "metadata": {
        "id": "IHAP8z1fj-rz",
        "colab_type": "code",
        "colab": {},
        "outputId": "a56d79a1-b79c-4c36-dbc2-223e1dd6d9d3"
      },
      "source": [
        "# Example of merge\n",
        "left = pd.DataFrame({'key': ['foo', 'bar'], 'lval': [4, 2]})\n",
        "right = pd.DataFrame({'key': ['bar', 'zoo'], 'rval': [4, 5]})\n",
        "\n",
        "print(\"left: \",left,\"right: \",right, sep=end_string)"
      ],
      "execution_count": 0,
      "outputs": [
        {
          "output_type": "stream",
          "text": [
            "left: \n",
            "--------------------------------------------------\n",
            "   key  lval\n",
            "0  foo     4\n",
            "1  bar     2\n",
            "--------------------------------------------------\n",
            "right: \n",
            "--------------------------------------------------\n",
            "   key  rval\n",
            "0  bar     4\n",
            "1  zoo     5\n"
          ],
          "name": "stdout"
        }
      ]
    },
    {
      "cell_type": "code",
      "metadata": {
        "id": "SG9FZzclj-r0",
        "colab_type": "code",
        "colab": {},
        "outputId": "7580bb65-aea4-4ec0-c198-01ebf1e3b2a6"
      },
      "source": [
        "merged = pd.merge(left, right, how=\"inner\")\n",
        "print(merged)"
      ],
      "execution_count": 0,
      "outputs": [
        {
          "output_type": "stream",
          "text": [
            "   key  lval  rval\n",
            "0  bar     2     4\n"
          ],
          "name": "stdout"
        }
      ]
    },
    {
      "cell_type": "code",
      "metadata": {
        "id": "kt0-fHwGj-r0",
        "colab_type": "code",
        "colab": {},
        "outputId": "b333659a-3049-40cf-b6a5-0d83c7f59308"
      },
      "source": [
        "merged = pd.merge(left, right, how=\"outer\")\n",
        "print(merged)"
      ],
      "execution_count": 0,
      "outputs": [
        {
          "output_type": "stream",
          "text": [
            "   key  lval  rval\n",
            "0  foo   4.0   NaN\n",
            "1  bar   2.0   4.0\n",
            "2  zoo   NaN   5.0\n"
          ],
          "name": "stdout"
        }
      ]
    },
    {
      "cell_type": "code",
      "metadata": {
        "id": "spx7O0w2j-r1",
        "colab_type": "code",
        "colab": {},
        "outputId": "fd940bd2-0a8a-4246-a840-8bb0f192a00c"
      },
      "source": [
        "merged = pd.merge(left, right, how=\"left\")\n",
        "print(merged)"
      ],
      "execution_count": 0,
      "outputs": [
        {
          "output_type": "stream",
          "text": [
            "   key  lval  rval\n",
            "0  foo     4   NaN\n",
            "1  bar     2   4.0\n"
          ],
          "name": "stdout"
        }
      ]
    },
    {
      "cell_type": "code",
      "metadata": {
        "id": "RjhKrF0ej-r2",
        "colab_type": "code",
        "colab": {},
        "outputId": "a0393fe1-04fa-43d2-a464-bf6c7a25c704"
      },
      "source": [
        "merged = pd.merge(left, right, how=\"right\")\n",
        "print(merged)"
      ],
      "execution_count": 0,
      "outputs": [
        {
          "output_type": "stream",
          "text": [
            "   key  lval  rval\n",
            "0  bar   2.0     4\n",
            "1  zoo   NaN     5\n"
          ],
          "name": "stdout"
        }
      ]
    },
    {
      "cell_type": "markdown",
      "metadata": {
        "id": "l38YFhfjj-r2",
        "colab_type": "text"
      },
      "source": [
        "## Function Application\n",
        " - Row or Column-wise Function Application: Applies function along input axis of DataFrame\n",
        "```python \n",
        "df.apply(func, axis = 0) ``` \n",
        " - Elementwise: apply the function to every element in the df \n",
        " ```python \n",
        "df.applymap(func) ``` \n",
        "\n",
        "- Note, ``` applymap ``` is equivalent to the ``` map ``` function on lists. \n",
        "- Note, ``` Series ``` objects support ``` .map ``` instead of ``` applymap ```"
      ]
    },
    {
      "cell_type": "code",
      "metadata": {
        "id": "OJjbSoUyj-r3",
        "colab_type": "code",
        "colab": {},
        "outputId": "828cef3a-bd1e-416f-e294-e2daba43b009"
      },
      "source": [
        "## APPLY EXAMPLES\n",
        "df1 = pd.DataFrame(np.random.randn(6,4), index=list(range(0,12,2)), columns=list('abcd'))\n",
        "df1"
      ],
      "execution_count": 0,
      "outputs": [
        {
          "output_type": "execute_result",
          "data": {
            "text/html": [
              "<div>\n",
              "<style scoped>\n",
              "    .dataframe tbody tr th:only-of-type {\n",
              "        vertical-align: middle;\n",
              "    }\n",
              "\n",
              "    .dataframe tbody tr th {\n",
              "        vertical-align: top;\n",
              "    }\n",
              "\n",
              "    .dataframe thead th {\n",
              "        text-align: right;\n",
              "    }\n",
              "</style>\n",
              "<table border=\"1\" class=\"dataframe\">\n",
              "  <thead>\n",
              "    <tr style=\"text-align: right;\">\n",
              "      <th></th>\n",
              "      <th>a</th>\n",
              "      <th>b</th>\n",
              "      <th>c</th>\n",
              "      <th>d</th>\n",
              "    </tr>\n",
              "  </thead>\n",
              "  <tbody>\n",
              "    <tr>\n",
              "      <th>0</th>\n",
              "      <td>-1.270143</td>\n",
              "      <td>-0.956220</td>\n",
              "      <td>0.695690</td>\n",
              "      <td>1.135779</td>\n",
              "    </tr>\n",
              "    <tr>\n",
              "      <th>2</th>\n",
              "      <td>-0.112360</td>\n",
              "      <td>0.653258</td>\n",
              "      <td>0.058179</td>\n",
              "      <td>1.705717</td>\n",
              "    </tr>\n",
              "    <tr>\n",
              "      <th>...</th>\n",
              "      <td>...</td>\n",
              "      <td>...</td>\n",
              "      <td>...</td>\n",
              "      <td>...</td>\n",
              "    </tr>\n",
              "    <tr>\n",
              "      <th>8</th>\n",
              "      <td>-0.506971</td>\n",
              "      <td>-0.277525</td>\n",
              "      <td>-1.740889</td>\n",
              "      <td>0.477897</td>\n",
              "    </tr>\n",
              "    <tr>\n",
              "      <th>10</th>\n",
              "      <td>-1.285606</td>\n",
              "      <td>0.986301</td>\n",
              "      <td>1.046988</td>\n",
              "      <td>1.364986</td>\n",
              "    </tr>\n",
              "  </tbody>\n",
              "</table>\n",
              "<p>6 rows × 4 columns</p>\n",
              "</div>"
            ],
            "text/plain": [
              "           a         b         c         d\n",
              "0  -1.270143 -0.956220  0.695690  1.135779\n",
              "2  -0.112360  0.653258  0.058179  1.705717\n",
              "..       ...       ...       ...       ...\n",
              "8  -0.506971 -0.277525 -1.740889  0.477897\n",
              "10 -1.285606  0.986301  1.046988  1.364986\n",
              "\n",
              "[6 rows x 4 columns]"
            ]
          },
          "metadata": {
            "tags": []
          },
          "execution_count": 111
        }
      ]
    },
    {
      "cell_type": "code",
      "metadata": {
        "id": "Cqkj50-Gj-r3",
        "colab_type": "code",
        "colab": {},
        "outputId": "0632a5fe-d9ef-4e3c-e034-ebfb013c6260"
      },
      "source": [
        "# Apply to each column\n",
        "df1.apply(np.mean)"
      ],
      "execution_count": 0,
      "outputs": [
        {
          "output_type": "execute_result",
          "data": {
            "text/plain": [
              "a   -0.972718\n",
              "b   -0.219979\n",
              "c   -0.272447\n",
              "d    0.926962\n",
              "dtype: float64"
            ]
          },
          "metadata": {
            "tags": []
          },
          "execution_count": 112
        }
      ]
    },
    {
      "cell_type": "code",
      "metadata": {
        "id": "HnvYmpz6j-r4",
        "colab_type": "code",
        "colab": {},
        "outputId": "cbe6963c-53c3-4125-ba64-dc4f09752cf5"
      },
      "source": [
        "# Apply to each row\n",
        "df1.apply(np.mean, axis = 1)"
      ],
      "execution_count": 0,
      "outputs": [
        {
          "output_type": "execute_result",
          "data": {
            "text/plain": [
              "0    -0.098723\n",
              "2     0.576199\n",
              "        ...   \n",
              "8    -0.511872\n",
              "10    0.528167\n",
              "Length: 6, dtype: float64"
            ]
          },
          "metadata": {
            "tags": []
          },
          "execution_count": 113
        }
      ]
    },
    {
      "cell_type": "markdown",
      "metadata": {
        "id": "s9rtiLvtj-r4",
        "colab_type": "text"
      },
      "source": [
        "### Side note: lambda functions\n",
        "\n",
        "lambda functions allow you to specify a function without giving it a separate declaration.  For example, the function \n",
        "```python\n",
        "lambda x: (x - x.mean())/x.std()\n",
        "```\n",
        "is equivalent to the function\n",
        "```python\n",
        "def normalize(x):\n",
        "    return (x - x.mean())/x.std()\n",
        "```\n",
        "You'll often see lambda functions used in list comprehensions, or in methods (like `map()`, `apply()`, or `applymap()`) that take a function as input."
      ]
    },
    {
      "cell_type": "code",
      "metadata": {
        "id": "eJUtH_bSj-r4",
        "colab_type": "code",
        "colab": {},
        "outputId": "99b061ac-bf04-4c3d-875b-e732741bfb6e"
      },
      "source": [
        "# # Use lambda functions  to normalize columns\n",
        "df1 = df1.apply(lambda x: (x - x.mean())/ x.std(), axis = 0)\n",
        "df1"
      ],
      "execution_count": 0,
      "outputs": [
        {
          "output_type": "execute_result",
          "data": {
            "text/html": [
              "<div>\n",
              "<style scoped>\n",
              "    .dataframe tbody tr th:only-of-type {\n",
              "        vertical-align: middle;\n",
              "    }\n",
              "\n",
              "    .dataframe tbody tr th {\n",
              "        vertical-align: top;\n",
              "    }\n",
              "\n",
              "    .dataframe thead th {\n",
              "        text-align: right;\n",
              "    }\n",
              "</style>\n",
              "<table border=\"1\" class=\"dataframe\">\n",
              "  <thead>\n",
              "    <tr style=\"text-align: right;\">\n",
              "      <th></th>\n",
              "      <th>a</th>\n",
              "      <th>b</th>\n",
              "      <th>c</th>\n",
              "      <th>d</th>\n",
              "    </tr>\n",
              "  </thead>\n",
              "  <tbody>\n",
              "    <tr>\n",
              "      <th>0</th>\n",
              "      <td>-0.381610</td>\n",
              "      <td>-0.868425</td>\n",
              "      <td>0.855570</td>\n",
              "      <td>0.310144</td>\n",
              "    </tr>\n",
              "    <tr>\n",
              "      <th>2</th>\n",
              "      <td>1.103882</td>\n",
              "      <td>1.030017</td>\n",
              "      <td>0.292184</td>\n",
              "      <td>1.156640</td>\n",
              "    </tr>\n",
              "    <tr>\n",
              "      <th>...</th>\n",
              "      <td>...</td>\n",
              "      <td>...</td>\n",
              "      <td>...</td>\n",
              "      <td>...</td>\n",
              "    </tr>\n",
              "    <tr>\n",
              "      <th>8</th>\n",
              "      <td>0.597577</td>\n",
              "      <td>-0.067879</td>\n",
              "      <td>-1.297704</td>\n",
              "      <td>-0.666969</td>\n",
              "    </tr>\n",
              "    <tr>\n",
              "      <th>10</th>\n",
              "      <td>-0.401450</td>\n",
              "      <td>1.422854</td>\n",
              "      <td>1.166022</td>\n",
              "      <td>0.650573</td>\n",
              "    </tr>\n",
              "  </tbody>\n",
              "</table>\n",
              "<p>6 rows × 4 columns</p>\n",
              "</div>"
            ],
            "text/plain": [
              "           a         b         c         d\n",
              "0  -0.381610 -0.868425  0.855570  0.310144\n",
              "2   1.103882  1.030017  0.292184  1.156640\n",
              "..       ...       ...       ...       ...\n",
              "8   0.597577 -0.067879 -1.297704 -0.666969\n",
              "10 -0.401450  1.422854  1.166022  0.650573\n",
              "\n",
              "[6 rows x 4 columns]"
            ]
          },
          "metadata": {
            "tags": []
          },
          "execution_count": 114
        }
      ]
    },
    {
      "cell_type": "code",
      "metadata": {
        "id": "BsiMcgeuj-r5",
        "colab_type": "code",
        "colab": {},
        "outputId": "449615a2-cb95-4bac-d6b7-09d931e84e59"
      },
      "source": [
        "## APPLY EXAMPLES CONT\n",
        "# Create DF with 1000 rows and 3 columns filled with random entries\n",
        "tsdf = pd.DataFrame(np.random.randn(1000, 3), columns=['A', 'B', 'C'],\n",
        "                    index=pd.date_range('1/1/2000', periods=1000))\n",
        "\n",
        "tsdf.head()"
      ],
      "execution_count": 0,
      "outputs": [
        {
          "output_type": "execute_result",
          "data": {
            "text/html": [
              "<div>\n",
              "<style scoped>\n",
              "    .dataframe tbody tr th:only-of-type {\n",
              "        vertical-align: middle;\n",
              "    }\n",
              "\n",
              "    .dataframe tbody tr th {\n",
              "        vertical-align: top;\n",
              "    }\n",
              "\n",
              "    .dataframe thead th {\n",
              "        text-align: right;\n",
              "    }\n",
              "</style>\n",
              "<table border=\"1\" class=\"dataframe\">\n",
              "  <thead>\n",
              "    <tr style=\"text-align: right;\">\n",
              "      <th></th>\n",
              "      <th>A</th>\n",
              "      <th>B</th>\n",
              "      <th>C</th>\n",
              "    </tr>\n",
              "  </thead>\n",
              "  <tbody>\n",
              "    <tr>\n",
              "      <th>2000-01-01</th>\n",
              "      <td>-0.379871</td>\n",
              "      <td>0.806128</td>\n",
              "      <td>0.731072</td>\n",
              "    </tr>\n",
              "    <tr>\n",
              "      <th>2000-01-02</th>\n",
              "      <td>0.286158</td>\n",
              "      <td>0.248792</td>\n",
              "      <td>1.211729</td>\n",
              "    </tr>\n",
              "    <tr>\n",
              "      <th>...</th>\n",
              "      <td>...</td>\n",
              "      <td>...</td>\n",
              "      <td>...</td>\n",
              "    </tr>\n",
              "    <tr>\n",
              "      <th>2000-01-04</th>\n",
              "      <td>1.154776</td>\n",
              "      <td>-0.055239</td>\n",
              "      <td>0.691810</td>\n",
              "    </tr>\n",
              "    <tr>\n",
              "      <th>2000-01-05</th>\n",
              "      <td>0.491653</td>\n",
              "      <td>0.562116</td>\n",
              "      <td>-0.237537</td>\n",
              "    </tr>\n",
              "  </tbody>\n",
              "</table>\n",
              "<p>5 rows × 3 columns</p>\n",
              "</div>"
            ],
            "text/plain": [
              "                   A         B         C\n",
              "2000-01-01 -0.379871  0.806128  0.731072\n",
              "2000-01-02  0.286158  0.248792  1.211729\n",
              "...              ...       ...       ...\n",
              "2000-01-04  1.154776 -0.055239  0.691810\n",
              "2000-01-05  0.491653  0.562116 -0.237537\n",
              "\n",
              "[5 rows x 3 columns]"
            ]
          },
          "metadata": {
            "tags": []
          },
          "execution_count": 115
        }
      ]
    },
    {
      "cell_type": "code",
      "metadata": {
        "id": "Jk_pzvrLj-r6",
        "colab_type": "code",
        "colab": {},
        "outputId": "72e1bfea-b1d5-404d-b035-3590f9b8558f"
      },
      "source": [
        "# Can get trickier, say I wanted to find where the maximum dates occured for each column of the df:\n",
        "tsdf.apply(lambda x: x.idxmax())"
      ],
      "execution_count": 0,
      "outputs": [
        {
          "output_type": "execute_result",
          "data": {
            "text/plain": [
              "A   2002-08-12\n",
              "B   2000-02-02\n",
              "C   2000-09-27\n",
              "dtype: datetime64[ns]"
            ]
          },
          "metadata": {
            "tags": []
          },
          "execution_count": 116
        }
      ]
    },
    {
      "cell_type": "code",
      "metadata": {
        "id": "0nqswrg0j-r6",
        "colab_type": "code",
        "colab": {},
        "outputId": "6bd718b8-e036-4c79-c53f-fdda7095bde3"
      },
      "source": [
        "## APPLYMAP EXAMPLES\n",
        "tmp = tsdf.applymap(lambda x: x - 1)\n",
        "print(tmp.head())"
      ],
      "execution_count": 0,
      "outputs": [
        {
          "output_type": "stream",
          "text": [
            "                   A         B         C\n",
            "2000-01-01 -1.379871 -0.193872 -0.268928\n",
            "2000-01-02 -0.713842 -0.751208  0.211729\n",
            "...              ...       ...       ...\n",
            "2000-01-04  0.154776 -1.055239 -0.308190\n",
            "2000-01-05 -0.508347 -0.437884 -1.237537\n",
            "\n",
            "[5 rows x 3 columns]\n"
          ],
          "name": "stdout"
        }
      ]
    },
    {
      "cell_type": "markdown",
      "metadata": {
        "id": "p61Pvnfvj-r7",
        "colab_type": "text"
      },
      "source": [
        "# I/O Functions\n",
        "\n",
        "- There are loads of input output features. The highlights most useful to you are likely:\n",
        "    - ``` pd.read_csv ``` / ``` pd.to_csv ``` \n",
        "    - ``` pd.read_excel ``` / ``` pd.to_excel ```\n",
        "    - ``` pd.read_sql ``` / ``` pd.to_sql ```\n",
        "    - ``` pd.read_pickle ``` / ``` pd.to_pickle ```\n",
        "Documentation:\n",
        "\n",
        "* [Pandas Import-Output Functions](https://pandas.pydata.org/pandas-docs/stable/io.html)"
      ]
    },
    {
      "cell_type": "markdown",
      "metadata": {
        "id": "N7EBGIsRj-r7",
        "colab_type": "text"
      },
      "source": [
        "### Loading data from CSV\n",
        "Here are the first several lines of `iris.csv`:\n",
        "\n",
        "```\n",
        "sepal_length,sepal_width,petal_length,petal_width,name\n",
        "5.1,3.5,1.4,0.2,setosa\n",
        "4.9,3.0,1.4,0.2,setosa\n",
        "4.7,3.2,1.3,0.2,setosa\n",
        "4.6,3.1,1.5,0.2,setosa\n",
        "5.0,3.6,1.4,0.2,setosa\n",
        "5.4,3.9,1.7,0.4,setosa\n",
        "```"
      ]
    },
    {
      "cell_type": "code",
      "metadata": {
        "id": "_iKycWM-j-r7",
        "colab_type": "code",
        "colab": {},
        "outputId": "c5bdf69c-5285-4eea-89b9-3f168a6ddf67"
      },
      "source": [
        "import pandas as pd\n",
        "# Can use df.info to find out information about the df \n",
        "iris_data = pd.read_csv('https://gist.githubusercontent.com/curran/a08a1080b88344b0c8a7/raw/639388c2cbc2120a14dcf466e85730eb8be498bb/iris.csv')\n",
        "\n",
        "#iris_data = pd.read_csv('./data/iris.csv')\n",
        "iris_data.info()"
      ],
      "execution_count": 0,
      "outputs": [
        {
          "output_type": "stream",
          "text": [
            "<class 'pandas.core.frame.DataFrame'>\n",
            "RangeIndex: 150 entries, 0 to 149\n",
            "Data columns (total 5 columns):\n",
            "sepal_length    150 non-null float64\n",
            "sepal_width     150 non-null float64\n",
            "petal_length    150 non-null float64\n",
            "petal_width     150 non-null float64\n",
            "species         150 non-null object\n",
            "dtypes: float64(4), object(1)\n",
            "memory usage: 6.0+ KB\n"
          ],
          "name": "stdout"
        }
      ]
    },
    {
      "cell_type": "code",
      "metadata": {
        "id": "EtP2eX81j-r8",
        "colab_type": "code",
        "colab": {},
        "outputId": "676ed170-55de-4beb-deee-599433c4fe3d"
      },
      "source": [
        "# describe and summarize the dataframe\n",
        "print(iris_data.describe())"
      ],
      "execution_count": 0,
      "outputs": [
        {
          "output_type": "stream",
          "text": [
            "       sepal_length  sepal_width  petal_length  petal_width\n",
            "count    150.000000      150.000    150.000000   150.000000\n",
            "mean       5.843333        3.054      3.758667     1.198667\n",
            "...             ...          ...           ...          ...\n",
            "75%        6.400000        3.300      5.100000     1.800000\n",
            "max        7.900000        4.400      6.900000     2.500000\n",
            "\n",
            "[8 rows x 4 columns]\n"
          ],
          "name": "stdout"
        }
      ]
    },
    {
      "cell_type": "markdown",
      "metadata": {
        "id": "jJAPWPztj-r9",
        "colab_type": "text"
      },
      "source": [
        "## The split/apply combo (groupyby)\n",
        "- pandas objects can be split on any of their axes. The abstract definition of grouping is to provide a mapping of labels to group names:\n",
        "- Syntax:  \n",
        "    - ``` groups = df.groupby(key) ```\n",
        "    - ``` groups = df.groupby(key, axis = 1) ```\n",
        "    - ``` groups = df.groupby([key1, key2], axis = 1) ```"
      ]
    },
    {
      "cell_type": "markdown",
      "metadata": {
        "id": "Du8C6DBYj-r9",
        "colab_type": "text"
      },
      "source": [
        "\n",
        "- The group by concept is that we want to apply the same function on subsets of the dataframe, based on some key we use to split the DataFrame into subsets\n",
        "- This idea is referred to as the \"split-apply-combine\" operation:\n",
        "    - Split the data into groups based on some criteria\n",
        "    - Apply a function to each group independently\n",
        "    - Combine the results \n",
        "\n",
        "![image](https://i.stack.imgur.com/sgCn1.jpg)"
      ]
    },
    {
      "cell_type": "code",
      "metadata": {
        "id": "0bV9W1Dij-r9",
        "colab_type": "code",
        "colab": {},
        "outputId": "55e057db-2f5e-4240-b942-5bbe9cdeb163"
      },
      "source": [
        "df = pd.DataFrame({'key':['A','B','C','A','B','C','A','B','C'],\n",
        "                   'data': [0, 5, 10, 5, 10, 15, 10, 15, 20]})\n",
        "df"
      ],
      "execution_count": 0,
      "outputs": [
        {
          "output_type": "execute_result",
          "data": {
            "text/html": [
              "<div>\n",
              "<style scoped>\n",
              "    .dataframe tbody tr th:only-of-type {\n",
              "        vertical-align: middle;\n",
              "    }\n",
              "\n",
              "    .dataframe tbody tr th {\n",
              "        vertical-align: top;\n",
              "    }\n",
              "\n",
              "    .dataframe thead th {\n",
              "        text-align: right;\n",
              "    }\n",
              "</style>\n",
              "<table border=\"1\" class=\"dataframe\">\n",
              "  <thead>\n",
              "    <tr style=\"text-align: right;\">\n",
              "      <th></th>\n",
              "      <th>key</th>\n",
              "      <th>data</th>\n",
              "    </tr>\n",
              "  </thead>\n",
              "  <tbody>\n",
              "    <tr>\n",
              "      <th>0</th>\n",
              "      <td>A</td>\n",
              "      <td>0</td>\n",
              "    </tr>\n",
              "    <tr>\n",
              "      <th>1</th>\n",
              "      <td>B</td>\n",
              "      <td>5</td>\n",
              "    </tr>\n",
              "    <tr>\n",
              "      <th>...</th>\n",
              "      <td>...</td>\n",
              "      <td>...</td>\n",
              "    </tr>\n",
              "    <tr>\n",
              "      <th>7</th>\n",
              "      <td>B</td>\n",
              "      <td>15</td>\n",
              "    </tr>\n",
              "    <tr>\n",
              "      <th>8</th>\n",
              "      <td>C</td>\n",
              "      <td>20</td>\n",
              "    </tr>\n",
              "  </tbody>\n",
              "</table>\n",
              "<p>9 rows × 2 columns</p>\n",
              "</div>"
            ],
            "text/plain": [
              "   key  data\n",
              "0    A     0\n",
              "1    B     5\n",
              "..  ..   ...\n",
              "7    B    15\n",
              "8    C    20\n",
              "\n",
              "[9 rows x 2 columns]"
            ]
          },
          "metadata": {
            "tags": []
          },
          "execution_count": 121
        }
      ]
    },
    {
      "cell_type": "code",
      "metadata": {
        "id": "WveozCqhj-r-",
        "colab_type": "code",
        "colab": {},
        "outputId": "11ff6a35-b5f2-4363-bac5-8f1866804ece"
      },
      "source": [
        "df.groupby('key')"
      ],
      "execution_count": 0,
      "outputs": [
        {
          "output_type": "execute_result",
          "data": {
            "text/plain": [
              "<pandas.core.groupby.generic.DataFrameGroupBy object at 0x7f148ed00890>"
            ]
          },
          "metadata": {
            "tags": []
          },
          "execution_count": 122
        }
      ]
    },
    {
      "cell_type": "code",
      "metadata": {
        "id": "9QWJCIbdj-r-",
        "colab_type": "code",
        "colab": {},
        "outputId": "16cf992b-f590-4ec1-ab7b-25750c67cb0f"
      },
      "source": [
        "sums = df.groupby('key').agg(np.sum)\n",
        "sums"
      ],
      "execution_count": 0,
      "outputs": [
        {
          "output_type": "execute_result",
          "data": {
            "text/html": [
              "<div>\n",
              "<style scoped>\n",
              "    .dataframe tbody tr th:only-of-type {\n",
              "        vertical-align: middle;\n",
              "    }\n",
              "\n",
              "    .dataframe tbody tr th {\n",
              "        vertical-align: top;\n",
              "    }\n",
              "\n",
              "    .dataframe thead th {\n",
              "        text-align: right;\n",
              "    }\n",
              "</style>\n",
              "<table border=\"1\" class=\"dataframe\">\n",
              "  <thead>\n",
              "    <tr style=\"text-align: right;\">\n",
              "      <th></th>\n",
              "      <th>data</th>\n",
              "    </tr>\n",
              "    <tr>\n",
              "      <th>key</th>\n",
              "      <th></th>\n",
              "    </tr>\n",
              "  </thead>\n",
              "  <tbody>\n",
              "    <tr>\n",
              "      <th>A</th>\n",
              "      <td>15</td>\n",
              "    </tr>\n",
              "    <tr>\n",
              "      <th>B</th>\n",
              "      <td>30</td>\n",
              "    </tr>\n",
              "    <tr>\n",
              "      <th>C</th>\n",
              "      <td>45</td>\n",
              "    </tr>\n",
              "  </tbody>\n",
              "</table>\n",
              "</div>"
            ],
            "text/plain": [
              "     data\n",
              "key      \n",
              "A      15\n",
              "B      30\n",
              "C      45"
            ]
          },
          "metadata": {
            "tags": []
          },
          "execution_count": 124
        }
      ]
    },
    {
      "cell_type": "markdown",
      "metadata": {
        "id": "8c0J1Bg7j-r_",
        "colab_type": "text"
      },
      "source": [
        "# Plotting data\n",
        "\n",
        "- The plot method on Series and DataFrame is just a wrapper on matplotlib plt.plot()\n",
        "- Many available plots:\n",
        "    - ‘bar’ or ‘barh’ for bar plots\n",
        "    - ‘hist’ for histogram\n",
        "    - ‘box’ for boxplot\n",
        "    - ‘kde’ or 'density' for density plots • ‘area’ for area plots\n",
        "    - ‘scatter’ for scatter plots\n",
        "    - ‘hexbin’ for hexagonal bin plots • ‘pie’ for pie plots\n",
        "    \n",
        "- There are several more complex plotting functions in pandas.tools.plotting that take a Series or DataFrame as an argument. These include:\n",
        "    - Scatter matrices\n",
        "    - Autocorrelation\n",
        "    - Bootstrap Plot"
      ]
    },
    {
      "cell_type": "code",
      "metadata": {
        "id": "JmF46wqGj-r_",
        "colab_type": "code",
        "colab": {}
      },
      "source": [
        "import matplotlib.pyplot as plt"
      ],
      "execution_count": 0,
      "outputs": []
    },
    {
      "cell_type": "code",
      "metadata": {
        "id": "8_AgmV50j-sA",
        "colab_type": "code",
        "colab": {},
        "outputId": "e2f2473d-48f7-4a5a-f08d-cbb1d62a0c83"
      },
      "source": [
        "iris_data.plot();"
      ],
      "execution_count": 0,
      "outputs": [
        {
          "output_type": "display_data",
          "data": {
            "image/png": "[encoded data removed]",
            "text/plain": [
              "<Figure size 432x288 with 1 Axes>"
            ]
          },
          "metadata": {
            "tags": [],
            "needs_background": "light"
          }
        }
      ]
    },
    {
      "cell_type": "code",
      "metadata": {
        "id": "jEQx2HOkj-sA",
        "colab_type": "code",
        "colab": {},
        "outputId": "083f0a07-1c19-465d-a3af-34d620fe9a70"
      },
      "source": [
        "## Quick example - Random walks\n",
        "df = pd.DataFrame(np.random.randn(1000, 4), index =pd.date_range('1/1/2000', periods=1000), columns=list('ABCD'))\n",
        "df = df.cumsum()\n",
        "df.plot()\n",
        "plt.show()"
      ],
      "execution_count": 0,
      "outputs": [
        {
          "output_type": "display_data",
          "data": {
            "image/png": "[encoded data removed]",
            "text/plain": [
              "<Figure size 432x288 with 1 Axes>"
            ]
          },
          "metadata": {
            "tags": [],
            "needs_background": "light"
          }
        }
      ]
    },
    {
      "cell_type": "code",
      "metadata": {
        "id": "6firmLqsj-sB",
        "colab_type": "code",
        "colab": {},
        "outputId": "c4de36ac-92bb-48d3-8d1a-6f52a319908d"
      },
      "source": [
        "plt.figure()\n",
        "df.iloc[5].plot(kind = 'bar')\n",
        "plt.axhline(0, color = 'k')\n",
        "plt.title(\"Title\")"
      ],
      "execution_count": 0,
      "outputs": [
        {
          "output_type": "execute_result",
          "data": {
            "text/plain": [
              "Text(0.5, 1.0, 'Title')"
            ]
          },
          "metadata": {
            "tags": []
          },
          "execution_count": 129
        },
        {
          "output_type": "display_data",
          "data": {
            "image/png": "[encoded data removed]",
            "text/plain": [
              "<Figure size 432x288 with 1 Axes>"
            ]
          },
          "metadata": {
            "tags": [],
            "needs_background": "light"
          }
        }
      ]
    },
    {
      "cell_type": "code",
      "metadata": {
        "id": "5WxhmYKLj-sC",
        "colab_type": "code",
        "colab": {},
        "outputId": "68005207-6f7c-4bf0-d936-8257e5c1a5e8"
      },
      "source": [
        "#data = pd.read_csv('./data/iris.csv')\n",
        "ax = iris_data.groupby('species') \\\n",
        "         .get_group('setosa') \\\n",
        "         .boxplot(column=[\"sepal_length\",\"sepal_width\"], return_type='axes')"
      ],
      "execution_count": 0,
      "outputs": [
        {
          "output_type": "display_data",
          "data": {
            "image/png": "[encoded data removed]",
            "text/plain": [
              "<Figure size 432x288 with 1 Axes>"
            ]
          },
          "metadata": {
            "tags": [],
            "needs_background": "light"
          }
        }
      ]
    },
    {
      "cell_type": "code",
      "metadata": {
        "id": "6YB3sd51j-sC",
        "colab_type": "code",
        "colab": {}
      },
      "source": [
        ""
      ],
      "execution_count": 0,
      "outputs": []
    }
  ]
}